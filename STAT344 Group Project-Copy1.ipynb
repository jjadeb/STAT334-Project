{
 "cells": [
  {
   "cell_type": "markdown",
   "id": "82bff329-ce9f-438c-80f8-30492ff45093",
   "metadata": {},
   "source": [
    "# STAT 344: Group Project"
   ]
  },
  {
   "cell_type": "markdown",
   "id": "0ce98f2f",
   "metadata": {},
   "source": [
    "## Introduction\n",
    "In this project, we analyze a comprehensize [dataset](https://www.kaggle.com/datasets/imoore/age-dataset) of over 1 million deceased notable individuals. The data was collected from diverse community-submitted data to all language versions of the Wikipedia project, and is the largest dataset on notable deceased individuals. The dataset itself encompasses a wide array of details concerning the individuals, such as their gender, nationality, occupation, birth year, age at death, and more. Furthermore, the dataset includes 107k females, 124 non-binary people, and 90k researchers, who are spread across more than 300 contemporary or historical regions.\n",
    "\n",
    "We aim to estimate two parameters: the mean age of death of deceased notable individuals as a numeric feature, and the proportion of deceased notable individuals who lived above the age of 72.6 as a binary feature. Furthermore, we employ both simple random sampling and stratification on the overall dataset, such that variations from the average deceased notable individual can be determined across strata.\n",
    "\n",
    "The importance of this project lies in its potential to provide valuable insights into morality patterns of notable individuals, contributing to a deeper understanding in different period of time and regions. The analysis that we are doing in this project will help shed light on the influence of societal, cultural, and historical factors on their lives and deaths.\n",
    "\n"
   ]
  },
  {
   "cell_type": "markdown",
   "id": "7c842e3c-4b7a-4a98-b746-cc1432ede7e4",
   "metadata": {},
   "source": [
    "## Exploratory Data Analysis & Preprocessing"
   ]
  },
  {
   "cell_type": "code",
   "execution_count": null,
   "id": "8ae4fff6-148f-447a-82c5-f659598f06fe",
   "metadata": {
    "vscode": {
     "languageId": "r"
    }
   },
   "outputs": [],
   "source": [
    "## Import statements\n",
    "library(tidyverse)\n",
    "library('GGally')"
   ]
  },
  {
   "cell_type": "code",
   "execution_count": null,
   "id": "09c0444e-6363-4fac-8156-bf3682cb585c",
   "metadata": {
    "vscode": {
     "languageId": "r"
    }
   },
   "outputs": [],
   "source": [
    "age_df <- read_csv('./AgeDataset-V1.csv', na=c(\"\",\" \",\"NA\")) # to run this line, make sure the dataset is installed in the project root directory\n",
    "age_df <- age_df %>% rename_all(funs(make.names(.)))"
   ]
  },
  {
   "cell_type": "code",
   "execution_count": null,
   "id": "824cf20e-4395-4517-8977-ab068c25c215",
   "metadata": {
    "vscode": {
     "languageId": "r"
    }
   },
   "outputs": [],
   "source": [
    "# Quick look at what the data looks like\n",
    "head(age_df)"
   ]
  },
  {
   "cell_type": "code",
   "execution_count": null,
   "id": "a6ee83e9-c750-42d3-8021-e87ce9ac561e",
   "metadata": {
    "vscode": {
     "languageId": "r"
    }
   },
   "outputs": [],
   "source": [
    "set.seed(123)"
   ]
  },
  {
   "cell_type": "markdown",
   "id": "2e5e747a-ca32-4d8d-a8cb-e9bc178c251c",
   "metadata": {},
   "source": [
    "As per the project introduction, the dataset contains 1.2 million observations; to confirm this, the following code cell provides an exact number. The large sample size allows us to treat the dataset as a \"population\" for all notable deceased individuals."
   ]
  },
  {
   "cell_type": "code",
   "execution_count": null,
   "id": "3302600c-255e-4eed-99da-66cf3c272803",
   "metadata": {
    "vscode": {
     "languageId": "r"
    }
   },
   "outputs": [],
   "source": [
    "pop_n <- nrow(age_df)\n",
    "pop_n"
   ]
  },
  {
   "cell_type": "markdown",
   "id": "0ad29240",
   "metadata": {},
   "source": [
    "To determine an appropriate stratification scheme, we first need to explore each categorical variable in the dataset. As seen in the above, there are 4 categorical variables: Gender, Country, Occupation, and Age of death. The remaining `<chr>` columns are incompatible with the scope of this project; for example, the Short description variable would require natural language processing to extract any meaningful information, and the ID/Name are unique indentifiers which would provide no useful information for our parameter estimation."
   ]
  },
  {
   "cell_type": "code",
   "execution_count": null,
   "id": "37e8509d",
   "metadata": {
    "vscode": {
     "languageId": "r"
    }
   },
   "outputs": [],
   "source": [
    "age_df %>%  # find number of unique Countries\n",
    "    select(Country) %>%\n",
    "    n_distinct()"
   ]
  },
  {
   "cell_type": "markdown",
   "id": "0d5160d8",
   "metadata": {},
   "source": [
    "The above code cell demonstrates the large number of countries within the dataset. Since the dataset spans multiple centuries, modern day countries may not exist in large subsets of the population, vice versa; For example, the \"Kingdom of Great Britain\" has evolved into the \"United Kingdom\". These changes over time are too varied to be meaningfully wrangled into a useable form for the project. As such, we remove this variable from the analysis"
   ]
  },
  {
   "cell_type": "code",
   "execution_count": null,
   "id": "80e4c74f",
   "metadata": {
    "vscode": {
     "languageId": "r"
    }
   },
   "outputs": [],
   "source": [
    "age_df %>%  # find number of unique Occupations\n",
    "    select(Occupation) %>%\n",
    "    n_distinct()"
   ]
  },
  {
   "cell_type": "markdown",
   "id": "097986b9",
   "metadata": {},
   "source": [
    "Similarly to the Country variable, the Occupation variable has a large number of unique values. Even if there exists a standardized formatting of a given occupation; i.e. Mathematician; where a significant number of individuals are encompassed, there is a high likelihood where only a single individual exists for a given occupation."
   ]
  },
  {
   "cell_type": "code",
   "execution_count": null,
   "id": "9799a830",
   "metadata": {
    "vscode": {
     "languageId": "r"
    }
   },
   "outputs": [],
   "source": [
    "age_df %>%  # find number of unique Manner of deaths\n",
    "    select(Manner.of.death) %>%\n",
    "    n_distinct()\n",
    "sum(is.na(age_df$Manner.of.death))"
   ]
  },
  {
   "cell_type": "markdown",
   "id": "3432d283",
   "metadata": {},
   "source": [
    "The Manner of death variable has fewer unique values; However, the same points as the Country variable still hold true such that it would be an unrealistic variable to stratify. Additionally, around 50% of the population dataset has missing values for this variable; data inputation for this feature would be difficult and out of the scope of the project."
   ]
  },
  {
   "cell_type": "code",
   "execution_count": null,
   "id": "4426a3fb",
   "metadata": {
    "vscode": {
     "languageId": "r"
    }
   },
   "outputs": [],
   "source": [
    "age_df %>%  # find number of unique Genders\n",
    "    select(Gender) %>%\n",
    "    n_distinct()"
   ]
  },
  {
   "cell_type": "markdown",
   "id": "0181a0c1",
   "metadata": {},
   "source": [
    "The Gender variable has the least unique values; this makes it ideal to stratify. The below code cell demonstrates the different genders within the population dataset."
   ]
  },
  {
   "cell_type": "code",
   "execution_count": null,
   "id": "edc71062-adfe-4989-975e-81c59ee9405f",
   "metadata": {
    "vscode": {
     "languageId": "r"
    }
   },
   "outputs": [],
   "source": [
    "gender_counts <- data.frame(table(age_df['Gender']))\n",
    "gender_counts[order(gender_counts$Freq, decreasing = TRUE), ]"
   ]
  },
  {
   "cell_type": "markdown",
   "id": "b4ee06c6-aa79-4557-ba0a-d1c0121e817e",
   "metadata": {},
   "source": [
    "For stratified sampling, we need large enough groups. We can minimize the number of sub-categories by simplifying them to Male, Female, Transgender, and other. Where other encapsulates missing values, intersex, non-binary, and values that are not clear such as 'Female; Male'. While we know intersex and non-binary are not the same thing, we need groups large enough to be used in stratification."
   ]
  },
  {
   "cell_type": "code",
   "execution_count": null,
   "id": "5e3c6faf-b146-4586-a60e-dc0121b81134",
   "metadata": {
    "vscode": {
     "languageId": "r"
    }
   },
   "outputs": [],
   "source": [
    "gender_dictionary <- c('Eunuch; Male'='Male','Female; Male'='Other','Transgender Male; Female'='Transgender',\n",
    "                          'Intersex; Female'='Other','Intersex; Male'='Other', \n",
    "                          'Transgender Female; Male'='Transgender','Female; Female'='Female',\n",
    "                          'Transgender Female; Intersex'='Transgender',\n",
    "                          'Transgender Female; Female'='Transgender', \n",
    "                          'Transgender Female'='Transgender',\n",
    "                          'Transgender Male'='Transgender',\n",
    "                          'Transgender Male; Male'='Transgender',\n",
    "                          'Intersex'='Other',\n",
    "                          'Intersex; Transgender Male'='Transgender',\n",
    "                          'Transgender Person; Intersex; Transgender Male'='Transgender',\n",
    "                          'Non-Binary; Intersex'='Other', 'Eunuch'='Male', 'Non-Binary'='Other')"
   ]
  },
  {
   "cell_type": "code",
   "execution_count": null,
   "id": "5b460446-8719-4f27-b03f-012b1ce73d24",
   "metadata": {
    "vscode": {
     "languageId": "r"
    }
   },
   "outputs": [],
   "source": [
    "age_df$Gender = age_df$Gender %>% replace_na('Other')"
   ]
  },
  {
   "cell_type": "code",
   "execution_count": null,
   "id": "51eb4424-4134-4585-a6f4-0203e0eefb31",
   "metadata": {
    "vscode": {
     "languageId": "r"
    }
   },
   "outputs": [],
   "source": [
    "for (i in seq(1,length(gender_dictionary))){\n",
    "    new_gender <- gender_dictionary[i]\n",
    "    old_gender <- names(new_gender)\n",
    "    age_df$Gender[age_df$Gender==old_gender]<-new_gender\n",
    "    }"
   ]
  },
  {
   "cell_type": "code",
   "execution_count": null,
   "id": "7d0a8dae-fe96-4432-b90a-d00d51c5dadf",
   "metadata": {
    "vscode": {
     "languageId": "r"
    }
   },
   "outputs": [],
   "source": [
    "gender_counts <- data.frame(table(age_df['Gender']))\n",
    "gender_counts[order(gender_counts$Freq, decreasing = TRUE), ]"
   ]
  },
  {
   "cell_type": "markdown",
   "id": "641305d7-a876-4c1a-acb6-14a6a77ddbdb",
   "metadata": {},
   "source": [
    "We will also re-lable \"Male\" and \"Female\" to \"Cis-Male\" and \"Cis-Female\" so as not to imply that Transgender Females are not Female, etc."
   ]
  },
  {
   "cell_type": "code",
   "execution_count": null,
   "id": "b1d89d95-169a-4f55-9d28-9cd8d579485d",
   "metadata": {
    "vscode": {
     "languageId": "r"
    }
   },
   "outputs": [],
   "source": [
    "age_df$Gender[age_df$Gender == 'Male'] <- 'Cis-Male'"
   ]
  },
  {
   "cell_type": "code",
   "execution_count": null,
   "id": "d0654740-01ec-4536-bde3-486a1f16a581",
   "metadata": {
    "vscode": {
     "languageId": "r"
    }
   },
   "outputs": [],
   "source": [
    "age_df$Gender[age_df$Gender == 'Female'] <- 'Cis-Female'"
   ]
  },
  {
   "cell_type": "code",
   "execution_count": null,
   "id": "39257c0e",
   "metadata": {
    "vscode": {
     "languageId": "r"
    }
   },
   "outputs": [],
   "source": [
    "head(age_df, 3)\n",
    "tail(age_df, 3)"
   ]
  },
  {
   "cell_type": "markdown",
   "id": "9479ce46",
   "metadata": {},
   "source": [
    "To determine appropriate sample size, we first perform some basic computations. As a basic requirement, we want to be able to construct a confidence interval with a maximum width of 5 years; In the worst case, this allows us to approximately capture the number of decades a notable individual lives up to. Using the standard nominal value of $\\alpha = 0.05$, we construct our confidence intervals accordingly.\n",
    "\n",
    "Under standard notation, let $\\delta$ be half the width of the $(1-\\alpha)$ C.I for $\\hat{y}_P$. Then,\n",
    "\n",
    "$$\\delta = z_{a/2}\\sqrt{(1-n_0/N)\\dfrac{s^2_{guess}}{n_0}}$$\n",
    "\n"
   ]
  },
  {
   "cell_type": "markdown",
   "id": "fb77deb8-a62e-4d37-981f-5759e963db7e",
   "metadata": {},
   "source": [
    "Since we have large $N$ for all genders except transgender, we only compute $n_0$ with the FPC for the transgender group. We approximate the FPC to $1$ for the other groups \n",
    "\n",
    "Solving for $n$,\n",
    "\n",
    "$$n_0 = \\dfrac{z_{\\alpha / 2}^2s^2_{guess}}{\\delta^2}$$\n",
    "\n",
    "OR for FPC\n",
    "\n",
    "$$n_0 = \\dfrac{s^2_{guess}}{\\dfrac{\\delta^2}{z_{\\alpha/2}} + \\dfrac{s^2_{guess}}{N}}$$\n",
    "\n",
    "Currently, only have $\\delta = 2.5$. Therefore, we need to compute $s^2_{guess}$. We use the dataset to approximate the population variance"
   ]
  },
  {
   "cell_type": "code",
   "execution_count": null,
   "id": "8ce790fa",
   "metadata": {
    "vscode": {
     "languageId": "r"
    }
   },
   "outputs": [],
   "source": [
    "values <- age_df %>% \n",
    "    group_by(Gender) %>%\n",
    "    summarize(variance = var(Age.of.death, na.rm=TRUE),\n",
    "              N_h = n())\n",
    "values"
   ]
  },
  {
   "cell_type": "markdown",
   "id": "a63f72ff",
   "metadata": {},
   "source": [
    "We can now find $n_{0h}$ that provides $\\delta = 2.5$ for each strata; and therefore $\\sum^4_{h=1} n_{0h}$ is the minimum total sample size $n_0$. We use FPC as at $n_{0,h} / N_h$ is large for the Transgender strata. "
   ]
  },
  {
   "cell_type": "code",
   "execution_count": null,
   "id": "2af4b3ae",
   "metadata": {
    "vscode": {
     "languageId": "r"
    }
   },
   "outputs": [],
   "source": [
    "values <- values %>%\n",
    "    mutate(n_0h = ceiling(variance / (2.5^2 / qnorm(0.975) + variance / N_h)))\n",
    "values"
   ]
  },
  {
   "cell_type": "markdown",
   "id": "4a0f7759",
   "metadata": {},
   "source": [
    "Now we find $\\sum_{i=1}^{4} n_{0,i}$ where each $i$ is a different gender"
   ]
  },
  {
   "cell_type": "code",
   "execution_count": null,
   "id": "89949dd4",
   "metadata": {
    "vscode": {
     "languageId": "r"
    }
   },
   "outputs": [],
   "source": [
    "sum(values$n_0h)"
   ]
  },
  {
   "cell_type": "markdown",
   "id": "c634a63a",
   "metadata": {},
   "source": [
    "Now we know the minimum sample size for a stratified sample is $355$ total samples. \n",
    "\n",
    "To confirm that this is an appropriate sample size for an SRS, we now compute $n_0$ without stratification. We omit the FPC since $N$ is sufficiently large."
   ]
  },
  {
   "cell_type": "code",
   "execution_count": null,
   "id": "803f2ada",
   "metadata": {
    "vscode": {
     "languageId": "r"
    }
   },
   "outputs": [],
   "source": [
    "age_df %>%\n",
    "    summarize(variance = var(Age.of.death, na.rm=TRUE)) %>%\n",
    "    mutate(n_0 = ceiling(qnorm(0.975)^2 * variance / (2.5)^2))"
   ]
  },
  {
   "cell_type": "markdown",
   "id": "d0302713",
   "metadata": {},
   "source": [
    "Since $n_{0} = 170$ for an SRS is smaller than $\\sum_{i=1}^{4} n_{0,i} = 355$, we choose $\\sum_{i=1}^{4} n_{0,i} = 355$ as our sample size"
   ]
  },
  {
   "cell_type": "markdown",
   "id": "7860cb4c-5200-44f4-9b54-23eec406bf92",
   "metadata": {},
   "source": [
    "In order to make sure that our sample size can split evenly 4 ways, which will be necessary for creating stratified sample, we will round up our sample size to 356."
   ]
  },
  {
   "cell_type": "markdown",
   "id": "760bfb37-1cfe-44c5-896c-4860f109efa6",
   "metadata": {},
   "source": [
    "## Sample Data"
   ]
  },
  {
   "cell_type": "markdown",
   "id": "2fade35e-7119-4fa0-ad19-acc7b3bd3ee9",
   "metadata": {},
   "source": [
    "### Simple Random Sample"
   ]
  },
  {
   "cell_type": "markdown",
   "id": "cf081266-8bba-4c43-ad9f-e98f52b01ecf",
   "metadata": {},
   "source": [
    "First, we will take a simple random sample from our population. We set the seed to \"123\" for reproducibility. We will use the sample size of 355 determined previously."
   ]
  },
  {
   "cell_type": "code",
   "execution_count": null,
   "id": "9cbce972-9973-46c2-9248-ce5417a1527f",
   "metadata": {
    "vscode": {
     "languageId": "r"
    }
   },
   "outputs": [],
   "source": [
    "set.seed(123)\n",
    "age_srs <- age_df[sample(nrow(age_df), 356), ]\n",
    "head(age_srs)"
   ]
  },
  {
   "cell_type": "code",
   "execution_count": null,
   "id": "6fe4a0ff-3e50-4edb-84de-f653d48e33f9",
   "metadata": {
    "vscode": {
     "languageId": "r"
    }
   },
   "outputs": [],
   "source": [
    "dim(age_srs)"
   ]
  },
  {
   "cell_type": "code",
   "execution_count": null,
   "id": "56e851a7-7158-4493-8440-68c0844a8f7c",
   "metadata": {
    "vscode": {
     "languageId": "r"
    }
   },
   "outputs": [],
   "source": [
    "gender_counts <- data.frame(table(age_srs['Gender']))\n",
    "gender_counts[order(gender_counts$Freq, decreasing = TRUE), ]"
   ]
  },
  {
   "cell_type": "markdown",
   "id": "267f0768-d6fd-4d98-adf5-67b975dc0941",
   "metadata": {},
   "source": [
    "This simple random sample seems to be fairly representative of our population. The majority of our data points are cis-male. It is worth noting that no Transgender people were selected in this sample."
   ]
  },
  {
   "cell_type": "markdown",
   "id": "ff36212a-abf7-44f4-a081-1c855152def0",
   "metadata": {},
   "source": [
    "### Stratified Sample"
   ]
  },
  {
   "cell_type": "markdown",
   "id": "3edfe452-8c9a-49cd-919e-945b1a3c29b5",
   "metadata": {},
   "source": [
    "To take a stratified sample, we split the dataset into the various strata, and then retrieve an evenly sized sample from each stratum. This sample size is limited by the number of people in the Transgender category."
   ]
  },
  {
   "cell_type": "code",
   "execution_count": null,
   "id": "bd91a627-bb4a-4a2d-8946-2fe0fcd2f0c9",
   "metadata": {
    "vscode": {
     "languageId": "r"
    }
   },
   "outputs": [],
   "source": [
    "set.seed(123)\n",
    "age_strat <- age_df %>%\n",
    "  filter(Gender %in% c('Cis-Male','Cis-Female','Transgender','Other')) %>%\n",
    "  group_by(Gender) %>%\n",
    "  sample_n(356/4)"
   ]
  },
  {
   "cell_type": "code",
   "execution_count": null,
   "id": "fdf2c188-cd24-4a6f-af0e-2fe68a555e4d",
   "metadata": {
    "vscode": {
     "languageId": "r"
    }
   },
   "outputs": [],
   "source": [
    "head(age_strat)"
   ]
  },
  {
   "cell_type": "code",
   "execution_count": null,
   "id": "0ba08ad3-eaff-4646-836a-955641b487b2",
   "metadata": {
    "vscode": {
     "languageId": "r"
    }
   },
   "outputs": [],
   "source": [
    "gender_counts <- data.frame(table(age_strat['Gender']))\n",
    "gender_counts[order(gender_counts$Freq, decreasing = TRUE), ]"
   ]
  },
  {
   "cell_type": "markdown",
   "id": "436662fa-8230-4299-a0ca-1954272ecf31",
   "metadata": {},
   "source": [
    "Now we have an equal amount of data points for each Gender in our population."
   ]
  },
  {
   "cell_type": "markdown",
   "id": "4ff55cfe-647e-40c4-9cef-ac6b17f7d2d8",
   "metadata": {},
   "source": [
    "## Data Analysis"
   ]
  },
  {
   "cell_type": "markdown",
   "id": "d0dfaf04-28aa-4ec9-a7fb-2c29d636d47e",
   "metadata": {},
   "source": [
    "### Proportion with our Simple Random Sample"
   ]
  },
  {
   "cell_type": "markdown",
   "id": "3c5589c5-1dc0-444f-98ff-cbe908643d30",
   "metadata": {},
   "source": [
    "We want to examine the proportion of celebrities dying over the age of 72.6. The age of 72.6 was chosen because it is the world average life expectancy [source.](https://ourworldindata.org/life-expectancy) "
   ]
  },
  {
   "cell_type": "markdown",
   "id": "bdae0018-96d9-4425-8b9c-0875b2390f23",
   "metadata": {},
   "source": [
    "First, to visualize the sample, we plot a histogram distribution of the age of death."
   ]
  },
  {
   "cell_type": "code",
   "execution_count": null,
   "id": "009f82a2-7655-4617-9f78-cfb412adc2ce",
   "metadata": {
    "vscode": {
     "languageId": "r"
    }
   },
   "outputs": [],
   "source": [
    "options(repr.plot.width=10, repr.plot.height=7)\n",
    "\n",
    "plot_prop_srs <- ggplot(age_srs, aes(x = Age.of.death)) + \n",
    "    geom_histogram(binwidth = 2, position = \"identity\", colour = \"#FFFFFF\", fill = \"#0072B2\", alpha = 0.5) + \n",
    "    geom_histogram(data=subset(age_srs,age_srs$Age.of.death>72.6),binwidth=2, colour = \"#FFFFFF\", fill = \"#D55E00\", alpha = 0.9) + \n",
    "    xlab(\"Age of Death\") + \n",
    "    ggtitle(\"Distribution of Age of Death for Celebrities\") +\n",
    "    theme(axis.title = element_text(size = 20)) +\n",
    "    theme(plot.title = element_text(size = 24))\n",
    "plot_prop_srs"
   ]
  },
  {
   "cell_type": "markdown",
   "id": "1ef053a2-9a82-479d-ac94-c4c75a70e1cd",
   "metadata": {},
   "source": [
    "Above is a histogram of the ages of death in our sample. The section of the histogram that is orange contains the observations where age of death is over 72.6. Visually it looks like about 50% of the observations have age of death over 72.6."
   ]
  },
  {
   "cell_type": "markdown",
   "id": "a4724422-d3d9-40e9-bd24-4762ce414563",
   "metadata": {},
   "source": [
    "Now, let's examine the proportion mathematically."
   ]
  },
  {
   "cell_type": "markdown",
   "id": "7a6675d9-9e9e-40e0-a753-18c01412d281",
   "metadata": {},
   "source": [
    "First we need to verify if we should use the finite population correction factor to make sure the Central Limit Theorem holds. In order to do this, we check if the ratio of sample size to population size is small enough."
   ]
  },
  {
   "cell_type": "code",
   "execution_count": null,
   "id": "5c9ff794-7896-4a7f-a1a2-3723165f1427",
   "metadata": {
    "vscode": {
     "languageId": "r"
    }
   },
   "outputs": [],
   "source": [
    "nrow(age_srs)/pop_n"
   ]
  },
  {
   "cell_type": "markdown",
   "id": "4a6c360c-69fb-4c35-ab2f-c86f309edc76",
   "metadata": {},
   "source": [
    "0.0003 is sufficiently small that we do not need to use the population correction factor. However, it since we know N we can include it to get slighly more accurate results."
   ]
  },
  {
   "cell_type": "markdown",
   "id": "b562b2a5-c4a9-4f1c-836a-64c7ed883451",
   "metadata": {},
   "source": [
    "The formulas we need to use to calculate a proportion estimate and the confidence interval for proportion are the following:\n",
    "\n",
    "$${\\hat{p} = n_{d}/{n}}$$\n",
    "\n",
    "$${\\text{CI} = \\hat{p}} \\pm 1.96 \\times {\\sqrt{(1-n/N)\\frac{\\hat{p} \\times (1-\\hat{p})}{n}}}$$\n",
    "\n",
    "\n",
    "<br>\n",
    "\n",
    "\n",
    "| Variable | Definition |\n",
    "| - | :- | \n",
    "| $\\hat{p}$ | the sample proportion of celebrities that died over the age of 72.6\n",
    "| $n$ | the number of subjects in our sample\n",
    "| $n_{d}$ | the number of subjects in our sample that died over the age of 72.6\n",
    "| $N$ | the number of subjects in our population"
   ]
  },
  {
   "cell_type": "markdown",
   "id": "b0f420c8-90eb-45f4-8d77-52327939dcac",
   "metadata": {},
   "source": [
    "In order for the above formulas to hold, we need to check that $np > 10$ and $n(p-1) > 10$. Based on our previous visualization, we can take 0.5 as an approximate proportion value."
   ]
  },
  {
   "cell_type": "code",
   "execution_count": null,
   "id": "0e6775bb-5ddf-4e13-af59-5ecc6017964f",
   "metadata": {
    "vscode": {
     "languageId": "r"
    }
   },
   "outputs": [],
   "source": [
    "nrow(age_srs)*0.5"
   ]
  },
  {
   "cell_type": "markdown",
   "id": "666c2e9f-5ccc-4022-a3f2-820d27585118",
   "metadata": {},
   "source": [
    "178 is well above 10 so we can continue with using the proportion confidence interval formulas above."
   ]
  },
  {
   "cell_type": "markdown",
   "id": "3d924e0b-58e7-4b8c-b354-ace05e6d50ea",
   "metadata": {},
   "source": [
    "In order to account for the worst case scenario for standard error, we will replace the $\\hat{p}$ values in the standard error with the value 0.5."
   ]
  },
  {
   "cell_type": "code",
   "execution_count": null,
   "id": "b5e76331-0c25-44ce-a7be-8763338112e1",
   "metadata": {
    "vscode": {
     "languageId": "r"
    }
   },
   "outputs": [],
   "source": [
    "proportion_estimate <- age_srs %>%\n",
    "mutate(over = Age.of.death > 72.6) %>%\n",
    "summarize(prop = mean(over),\n",
    "          n = n(),\n",
    "          se = sqrt((1-n/pop_n)*0.5*0.5/n),\n",
    "         lower = prop - 1.96 * se,\n",
    "         upper = prop + 1.96 * se)"
   ]
  },
  {
   "cell_type": "code",
   "execution_count": null,
   "id": "e3d34b9f-f86a-40cf-9057-9fef710efad5",
   "metadata": {
    "vscode": {
     "languageId": "r"
    }
   },
   "outputs": [],
   "source": [
    "proportion_estimate"
   ]
  },
  {
   "cell_type": "markdown",
   "id": "f4a9527b-52a6-4e7a-8e84-6f9e30fafab2",
   "metadata": {},
   "source": [
    "Our estimate for the proportion of celebrities that die over the age of 72.6, is 0.497. This is an unbiased estimate as $E[\\hat{p}] = p$"
   ]
  },
  {
   "cell_type": "markdown",
   "id": "59f663f2-e62a-43d8-99e1-790c3af8497d",
   "metadata": {},
   "source": [
    "Our standard error is around 2.6 percentage points. This indicates by how much our sample proportion is likely to deviate from the population proportion."
   ]
  },
  {
   "cell_type": "markdown",
   "id": "72f92f1f-521a-4fcd-97d7-17fefa18617f",
   "metadata": {},
   "source": [
    "Our confidence interval for proportion p has a lower bound of 0.445 and an upper bound of 0.549. We can interpret this as: if we take many samples of size n from the same celebrity population and construct a confidence interval for proportion based on each sample using the same formula, about 95% of all these confidence intervals will include the true value p."
   ]
  },
  {
   "cell_type": "markdown",
   "id": "9f6439db-c5b8-4f66-9277-d44da48b3614",
   "metadata": {},
   "source": [
    "As stated previously, the world average life expectancy is around 72.6. Our confidence interval for the proportion of celebrities that die over the age of 72.6 includes 0.5. This indicates that perhaps celebrity median life expectancy does not deviate too much from the 72.6 world life expectancy estimate."
   ]
  },
  {
   "cell_type": "markdown",
   "id": "3a84c83d-b401-44b5-88ee-6bee3121c9ba",
   "metadata": {},
   "source": [
    "In order to make our conclusions, we have been working under the assumption that the sample data drawn from the population of celebrities is unbiased, representative, independent and identically distributed. Using a simple random sample helps us be confident in this assumption. "
   ]
  },
  {
   "cell_type": "markdown",
   "id": "e4f8d865-974f-4066-96cd-a60fb95f9b67",
   "metadata": {},
   "source": [
    "### Proportion with our Stratified Sample"
   ]
  },
  {
   "cell_type": "markdown",
   "id": "6ed3f78b-bb50-4d64-ab14-81adad607484",
   "metadata": {},
   "source": [
    "Now, lets examine the proportion of celebrities dying over the age of 72.6 for our stratified sample."
   ]
  },
  {
   "cell_type": "markdown",
   "id": "2774a353-9dad-4256-a4bc-08fe39b5b45a",
   "metadata": {},
   "source": [
    "Let's visualize with our stratified sample"
   ]
  },
  {
   "cell_type": "code",
   "execution_count": null,
   "id": "736ce0ee",
   "metadata": {
    "vscode": {
     "languageId": "r"
    }
   },
   "outputs": [],
   "source": [
    "plot_prop_strat <- ggplot(age_strat, aes(x = Age.of.death, fill = Gender)) + \n",
    "    geom_density(stat = \"density\", colour = \"#FFFFFF\", alpha = 0.4) +\n",
    "    geom_vline(aes(xintercept = 72.6), linewidth = 1, colour = \"#000000\") +\n",
    "    xlab(\"Age of Death\") + \n",
    "    ggtitle(\"Distribution of Age of Death for Celebrities\") +\n",
    "    scale_fill_manual(\n",
    "        values = c(\"#D55E0050\", \"#56B4E950\", \"#E69F0050\", \"#009E7350\"),\n",
    "        breaks = c(\"Cis-Female\", \"Cis-Male\", \"Other\", \"Transgender\")\n",
    "    ) +\n",
    "    theme(axis.title = element_text(size = 20)) +\n",
    "    theme(plot.title = element_text(size = 24)) +\n",
    "    theme(\n",
    "        legend.title = element_text(size=20), #change legend title font size\n",
    "        legend.text = element_text(size=15))\n",
    "plot_prop_strat"
   ]
  },
  {
   "cell_type": "markdown",
   "id": "b9ff6b77-791b-4ab9-9866-a9f0c0e3bc9a",
   "metadata": {},
   "source": [
    "Above is a density plot of the ages of death in our sample. The section of the density plot to the right of the black line contains the observations where age of death is over 72.6. This density plot is split by Gender, the variable we used for stratification. Visually it looks like most Transgender people in our sample died before the age of 72.6. Let's say that we don't use weighted averages. Since our stratified sample contains a higher percentage of Transgender people, it is likely that the sample proportion of people who died over the age of 72.6 would be lower than it was for our simple random sample."
   ]
  },
  {
   "cell_type": "markdown",
   "id": "61b88db6-a902-4766-937b-7dbaf661caef",
   "metadata": {},
   "source": [
    "Below is the formula for getting our proportion estimate, standard error, and confidence interval now that we have a stratified sample."
   ]
  },
  {
   "cell_type": "markdown",
   "id": "27141cd2-4cf3-4be0-9583-a92df7e36b50",
   "metadata": {},
   "source": [
    "\n",
    "$$S_{p} = {\\sum\\limits_{h}{\\frac{N_{h}}{N}} * p_{h}}$$\n",
    "\n",
    "$$SE = {\\sqrt{\\sum\\limits_{h}(1-{\\frac{n_{h}}{N_{h}}})(\\frac{N_{h}}{N})^2(\\frac{S_{h}^2}{n_{h}})}}$$\n",
    "\n",
    "$$CI = S_{p} \\pm 1.96 \\times SE$$\n",
    "\n",
    "<br>\n",
    "\n",
    "\n",
    "| Variable | Definition |\n",
    "| - | :- | \n",
    "| $S_{p}$ | sample proportion estimate\n",
    "| $p_{h}$ | sample proportion estimate in stratum h\n",
    "| $S_{h}^2$ | sample variance for the sampled units that belong to stratum h\n",
    "| $N$ | total population size\n",
    "| $N_{h}$ | number of units (in the population) that belong to stratum h\n",
    "| $n_{h}$ | number of units sampled that belong to stratum h\n",
    "| $S_{h}^2$ | sample variance for the sampled units that belong to stratum h\n",
    "| $SE$ | standard error for our proportion estimate\n",
    "| $CI$ | confidence interval for our proportion estimate\n",
    "\n",
    "\n",
    "."
   ]
  },
  {
   "cell_type": "markdown",
   "id": "f3237ac3-352b-4518-b107-d9c8de4dc4b7",
   "metadata": {},
   "source": [
    "Below we will carry out these calculations. For calculating the proportion and standard error for each stratum, we will use similar techniques to those we used for the simple random sample."
   ]
  },
  {
   "cell_type": "code",
   "execution_count": null,
   "id": "b86fac91-0576-4ea4-9d5e-e028de1e650e",
   "metadata": {
    "vscode": {
     "languageId": "r"
    }
   },
   "outputs": [],
   "source": [
    "## Strata proportion estimates\n",
    "\n",
    "strat_proportion_estimate <- age_strat %>%\n",
    "group_by(Gender) %>%\n",
    "mutate(over = Age.of.death > 72.6) %>%\n",
    "summarize(prop = mean(over),\n",
    "          n = n(),\n",
    "          var = 0.5*0.5,\n",
    "          se = sqrt(var/n))\n",
    "\n",
    "strat_proportion_estimate"
   ]
  },
  {
   "cell_type": "markdown",
   "id": "78553989-b6ab-4509-bebb-87c9f027e46c",
   "metadata": {},
   "source": [
    "Since we are using the \"worst case\" value of 0.5 for calculating the standard error for each stratum, and each stratum has the same size, it makes sense that the variance for proportion for each stratum is the same. There is, however, a clear difference in the proportion estimates between each strata. The sample proportion of Transgender people dying over the age of 72.6 (0.213) seems to be much lower than the sample proportion of Cis-Females, Cis-Males, and Other dying over the age of 72.6 (0.629, 0.416, 0.551). This indicates that Transgender people may have a lower mean age of death compared to Cis-Males and Cis-Females. Due to stratified sampling, we get an estimate of reasonable precision for the Transgender proportion."
   ]
  },
  {
   "cell_type": "code",
   "execution_count": null,
   "id": "e696a298-b50b-48c5-ac2b-5bbeb001f9a6",
   "metadata": {
    "vscode": {
     "languageId": "r"
    }
   },
   "outputs": [],
   "source": [
    "## Sample proportion estimate\n",
    "\n",
    "# Record total population size\n",
    "N <- nrow(age_df)\n",
    "\n",
    "# Record number of units that belong to each strata in the population\n",
    "N_strata <- age_df %>%\n",
    "group_by(Gender) %>%\n",
    "summarize(strata_counts = n())\n",
    "\n",
    "N_strata"
   ]
  },
  {
   "cell_type": "code",
   "execution_count": null,
   "id": "bb3b9a7a-ad1a-4f25-8d9e-560d64d5a152",
   "metadata": {
    "vscode": {
     "languageId": "r"
    }
   },
   "outputs": [],
   "source": [
    "# Calculate proportion estimate\n",
    "sample_proportion = 0\n",
    "\n",
    "for (gender in c('Cis-Female', 'Cis-Male','Transgender', 'Other')) {\n",
    "    Nh = N_strata %>%\n",
    "filter(Gender == gender)\n",
    "    p_row = strat_proportion_estimate %>%\n",
    " filter(Gender==gender)\n",
    "    p = p_row[[2]]\n",
    "    Nh = Nh[[2]]\n",
    "    sample_proportion = sample_proportion + (Nh/N)*p\n",
    "}\n",
    "\n",
    "sample_proportion"
   ]
  },
  {
   "cell_type": "markdown",
   "id": "ad46132c-1944-4aa8-9a81-544af9b9d21f",
   "metadata": {},
   "source": [
    "With our stratified sample we get a sample proportion estimate of 0.449. This is lower than our SRS estimate of 0.497. When calculating the standard error, we will need to use the population correction factor since the number of Transgender people in our sample is the same as the number of Transgender people in the population."
   ]
  },
  {
   "cell_type": "code",
   "execution_count": null,
   "id": "28431fd5-c26f-4403-91ea-3a022d9da08c",
   "metadata": {
    "vscode": {
     "languageId": "r"
    }
   },
   "outputs": [],
   "source": [
    "### Sample proportion standard error\n",
    "\n",
    "sum_for_se = 0\n",
    "\n",
    "for (gender in c('Cis-Female', 'Cis-Male','Transgender', 'Other')) {\n",
    "    Nh = N_strata %>%\n",
    "filter(Gender == gender)\n",
    "    p_gen = strat_proportion_estimate %>%\n",
    " filter(Gender==gender)\n",
    "    p = p_gen[[2]] \n",
    "    nh = p_gen[[3]]\n",
    "    var = p_gen[[4]]\n",
    "    Nh = Nh[[2]] \n",
    "    sum_for_se = sum_for_se + (1-nh/Nh)*(Nh/N)**2*(var/nh)\n",
    "}\n",
    "\n",
    "SE = sqrt(sum_for_se)\n",
    "SE"
   ]
  },
  {
   "cell_type": "markdown",
   "id": "aea85e20-52c0-4a9a-b60b-af31715d6b14",
   "metadata": {},
   "source": [
    "Our standard error when we use the stratified sample estimate is slightly larger than the standard error for the SRS estimate (0.026). In this case, our stratefied sample gives a less precise estimate than our simple random sample estimate."
   ]
  },
  {
   "cell_type": "markdown",
   "id": "ea6f4c29-8d1b-4e9e-be70-2395ee7ec159",
   "metadata": {},
   "source": [
    "Now that we have an estimate and standard error, we can calculate a confidence interval."
   ]
  },
  {
   "cell_type": "code",
   "execution_count": null,
   "id": "7b3ef984-9e22-490c-91b8-f8fc5f65f7b0",
   "metadata": {
    "vscode": {
     "languageId": "r"
    }
   },
   "outputs": [],
   "source": [
    "upper_bound = sample_proportion + 1.96*SE\n",
    "lower_bound = sample_proportion - 1.96*SE\n",
    "upper_bound\n",
    "lower_bound"
   ]
  },
  {
   "cell_type": "markdown",
   "id": "b03ac5a9-b9f0-4f27-a521-bb85ab694503",
   "metadata": {},
   "source": [
    "We have a confidence interval of (0.365,0.534) for our stratified sample proportion estimate. We can interpret this as: if we take many stratified samples of size n from the same celebrity population and construct a confidence interval for proportion based on each sample using the same formula, about 95% of all these confidence intervals will include the true value p. Our confidence interval for proportion using the stratified sample does include the value 0.5. For our stratified sample, we do not have evidence that celebrity median life expectancy is different than the 72.6 world life expectancy estimate."
   ]
  },
  {
   "cell_type": "markdown",
   "id": "1b3de49a-9c00-4463-812e-77fd296f0318",
   "metadata": {},
   "source": [
    "For calculating the standard error and confidence interval, we are working under the assumption that each member of the population has been correctly classified into their Gender stratum. This is not necessarily true as there were many missing values, and values with two Genders which were grouped as \"Other\"."
   ]
  },
  {
   "cell_type": "markdown",
   "id": "22444585-7912-451b-a6ed-cabcf7487c53",
   "metadata": {},
   "source": [
    "It was interesting to see the different in proportion estimates between the strata. There are only 250 transgender data-points in our data-set of over a million values. So, a major benefit of using stratified sampling is that we got to ensure estimates of reasonable precision for those in the Transgender category. "
   ]
  },
  {
   "cell_type": "markdown",
   "id": "3d6d7c01-68b8-4cfb-8efb-b7258169929d",
   "metadata": {},
   "source": [
    "### Mean with our Simple Random Sample"
   ]
  },
  {
   "cell_type": "markdown",
   "id": "6ddc59a1-bc54-40d3-ad94-0da87a2a0739",
   "metadata": {},
   "source": [
    "Now, lets investigate the mean age of death in our simple random sample. We can start with visualizaion of the vanilla mean estimator."
   ]
  },
  {
   "cell_type": "code",
   "execution_count": null,
   "id": "0b444fc3-7b93-471c-a5ff-d6a920b0098f",
   "metadata": {
    "vscode": {
     "languageId": "r"
    }
   },
   "outputs": [],
   "source": [
    "plot_both <- ggplot(age_srs, aes(x = Age.of.death)) + \n",
    "    geom_histogram(binwidth = 2, alpha = 0.9, position = \"identity\", aes(y = ..density..), colour = \"#FFFFFF\", fill=\"#0072B2\") +\n",
    "    xlab(\"Age of Death\") + \n",
    "    geom_vline(aes(xintercept = mean(Age.of.death))) +\n",
    "    ggtitle(\"Distribution of Age of Death for Celebrities\") +\n",
    "    theme(axis.title = element_text(size = 15)) +\n",
    "    theme(plot.title = element_text(size = 15))\n",
    "plot_both"
   ]
  },
  {
   "cell_type": "markdown",
   "id": "9d07da91-bacb-4347-9c2c-d89eab75404c",
   "metadata": {},
   "source": [
    "It appears that the mean age of death in our simple random sample is around 70. Now, lets check the actual mean estimate, standard error, and confidence interval."
   ]
  },
  {
   "cell_type": "markdown",
   "id": "159c55c2-42be-4eba-a3cd-e25334dbd225",
   "metadata": {},
   "source": [
    "Lets determine whether we should use a vanilla, ratio, or regression estimation for determining the mean. To do this, we will check to see if Age of Death is strongly correlated to any of the other numeric variables in our sample."
   ]
  },
  {
   "cell_type": "code",
   "execution_count": null,
   "id": "c5a52202-147e-4ee0-9d14-a2c702aa4c19",
   "metadata": {
    "vscode": {
     "languageId": "r"
    }
   },
   "outputs": [],
   "source": [
    "ggpairs(age_srs %>% select(c('Birth.year','Death.year','Age.of.death')))"
   ]
  },
  {
   "cell_type": "markdown",
   "id": "1aef9dfb-d5d1-4fc6-b9e8-1057a318edbb",
   "metadata": {},
   "source": [
    "There is not a strong positive correlation between Age of death and either of the numeric variables in our sample, therefore, we will use a vanilla estimate of the mean."
   ]
  },
  {
   "cell_type": "markdown",
   "id": "5ee7bf8f-2aec-4d58-b7a0-b66716c615c5",
   "metadata": {},
   "source": [
    "We can use the following formulas to check the mean estimate, standard error, and confidence interval."
   ]
  },
  {
   "cell_type": "markdown",
   "id": "cf641429-00bc-45d7-ab78-816694979425",
   "metadata": {},
   "source": [
    "$$\\bar{y}_{s} = {\\frac{{\\sum{y_{i}}}}{n}}$$\n",
    "\n",
    "$$e_{i} = y_{i} - \\bar{y}_{s}$$\n",
    "\n",
    "$$s_{e} ^ 2 = {\\frac{1}{n-1}}*{\\sum\\limits_{i}{e_{i}^{2}}}$$\n",
    "\n",
    "$${\\text{CI} = \\bar{y}_{s}} \\pm 1.96 \\times {\\sqrt{(1-n/N)\\frac{s_{e} ^ 2}{n}}}$$\n",
    "\n",
    "\n",
    "<br>\n",
    "\n",
    "\n",
    "| Variable | Definition |\n",
    "| - | :- | \n",
    "| $\\bar{y}_{s}$ | the sample mean of Age of Death of celebrities\n",
    "| $n$ | the number of subjects in our sample\n",
    "| $y_{i}$ | the age of death of the ith celebrity in our sample\n",
    "| $N$ | the number of subjects in our population"
   ]
  },
  {
   "cell_type": "markdown",
   "id": "e3f69ffe-746c-444d-a6ae-55c42ae08cab",
   "metadata": {},
   "source": [
    "Below we will carry out these calculations."
   ]
  },
  {
   "cell_type": "code",
   "execution_count": null,
   "id": "c7ff4550-4a16-428d-88f6-5a6ad8e90ed8",
   "metadata": {
    "vscode": {
     "languageId": "r"
    }
   },
   "outputs": [],
   "source": [
    "ei_sum = sum((age_srs$Age.of.death - mean(age_srs$Age.of.death))^2)\n",
    "\n",
    "means_estimate <- age_srs %>%\n",
    "reframe(mean = mean(Age.of.death),\n",
    "          n = n(),\n",
    "          sample_error_var = (1/(n-1))*ei_sum,\n",
    "          SE = sqrt((1-n/pop_n)*sample_error_var/n),\n",
    "          lower = mean - 1.96 * SE,\n",
    "          upper = mean + 1.96 * SE)\n",
    "means_estimate"
   ]
  },
  {
   "cell_type": "markdown",
   "id": "bb40fa07-0602-4f8b-9e52-e9cc662fef8b",
   "metadata": {},
   "source": [
    "We end up with a sample mean age of death of 68.601."
   ]
  },
  {
   "cell_type": "markdown",
   "id": "2eafa26f-35b8-469f-ba6a-2d338ad29404",
   "metadata": {},
   "source": [
    "Our standard error for this estimate is 0.903."
   ]
  },
  {
   "cell_type": "markdown",
   "id": "344d69b8-7f08-4dde-b781-8ba6f1f74457",
   "metadata": {},
   "source": [
    "Our confidence interval for this estimate is (66.83,70.37). Overall, this estimate seems to be fairly precise. In addition the width of the confidence interval (3.54) is smaller than the one we were aiming for when we calculated our sample size (5). From this confidence interval, which does not include the age 72.6, it seems there is some evidence that the average age of death of celebrities is not 72.6."
   ]
  },
  {
   "cell_type": "markdown",
   "id": "b58658aa-f64e-4b69-81b9-7ec621090e8c",
   "metadata": {},
   "source": [
    "We calculate these values under the assumption that our sample is large enough for the central Limit Theorem to hold. Since our sample is much larger than 30 we can be confident that this assumption holds. We also assume that the observations in our sample are equally likely to be obtained and independent. Since we used a simple random sample we can also be confident that this assumption holds."
   ]
  },
  {
   "cell_type": "markdown",
   "id": "7e76a61f-2922-4daf-9f18-20dad425b056",
   "metadata": {},
   "source": [
    "### Mean with our Stratified Sample"
   ]
  },
  {
   "cell_type": "code",
   "execution_count": null,
   "id": "5a47a19c-ee2b-46f9-a753-29cb12491ffe",
   "metadata": {
    "vscode": {
     "languageId": "r"
    }
   },
   "outputs": [],
   "source": [
    "plot_mean_strat <- ggplot(age_strat, aes(x = Age.of.death, fill = Gender)) + \n",
    "    geom_density(stat = \"density\", colour = \"#FFFFFF\", alpha = 0.4) +\n",
    "    geom_vline(aes(xintercept = mean(age_strat$Age.of.death)), linewidth = 1.5) +\n",
    "    geom_vline(aes(xintercept = 72.6), linewidth = 1.5, colour = \"#FF0000\", alpha = 0.7) +\n",
    "    xlab(\"Age of Death\") + \n",
    "    ggtitle(\"Distribution of Age of Death for Celebrities\") +\n",
    "\n",
    "    scale_fill_manual(\n",
    "        values = c(\"#D55E0050\", \"#56B4E950\", \"#E69F0050\", \"#009E7350\"),\n",
    "        breaks = c(\"Cis-Female\", \"Cis-Male\", \"Other\", \"Transgender\")\n",
    "    ) +\n",
    "    theme(axis.title = element_text(size = 20)) +\n",
    "    theme(plot.title = element_text(size = 24)) +\n",
    "    theme(\n",
    "        legend.title = element_text(size=20), #change legend title font size\n",
    "        legend.text = element_text(size=15))\n",
    "plot_mean_strat"
   ]
  },
  {
   "cell_type": "markdown",
   "id": "77f4eae0-4414-45f0-bcd4-b024f1fbcb5b",
   "metadata": {},
   "source": [
    "From this visualization, where we do not use a weighted average to calculate the mean, we can see that the mean age of death (black line) is lower than it was for our simple random sample (red line)."
   ]
  },
  {
   "cell_type": "markdown",
   "id": "68d1c5eb-7cc2-4056-b655-6d0373796d2b",
   "metadata": {},
   "source": [
    "\n",
    "$$\\bar y_{str} = {\\sum\\limits_{h}{\\frac{N_{h}}{N}} * \\bar y_{Sh}}$$\n",
    "\n",
    "$$SE\\bar y_{str} = {\\sqrt{\\sum\\limits_{h}(1-{\\frac{n_{h}}{N_{h}}})(\\frac{N_{h}}{N})^2(\\frac{S_{h}^2}{n_{h}})}}$$\n",
    "\n",
    "$$CI = \\bar y_{str} \\pm 1.96 \\times SE\\bar y_{str}$$\n",
    "\n",
    "<br>\n",
    "\n",
    "\n",
    "| Variable | Definition |\n",
    "| - | :- | \n",
    "| $\\bar y_{str}$ | sample mean estimate\n",
    "| $\\bar y_{Sh}$ | sample mean estimate in stratum h\n",
    "| $S_{h}^2$ | sample variance for the sampled units that belong to stratum h\n",
    "| $N$ | total population size\n",
    "| $N_{h}$ | number of units (in the population) that belong to stratum h\n",
    "| $n_{h}$ | number of units sampled that belong to stratum h\n",
    "| $S_{h}^2$ | sample variance for the sampled units that belong to stratum h\n",
    "| $SE\\bar y_{str}$ | standard error for our mean estimate\n",
    "| $CI$ | confidence interval for our proportion estimate\n"
   ]
  },
  {
   "cell_type": "code",
   "execution_count": null,
   "id": "519930ea-f697-4bbb-ac8c-a047fcace607",
   "metadata": {
    "vscode": {
     "languageId": "r"
    }
   },
   "outputs": [],
   "source": [
    "# Calculations\n",
    "\n",
    "## Strata mean estimates\n",
    "\n",
    "strat_mean_estimate <- age_strat %>%\n",
    "group_by(Gender) %>%\n",
    "summarize(mean = mean(Age.of.death),\n",
    "          var = var(Age.of.death),\n",
    "          n = n(),\n",
    "          SE = sqrt(var/n),\n",
    "          lower = mean - 1.96 * SE,\n",
    "          upper = mean + 1.96 * SE)\n",
    "\n",
    "strat_mean_estimate"
   ]
  },
  {
   "cell_type": "markdown",
   "id": "d29ddd39-8855-4ea2-a7af-c92969639eb2",
   "metadata": {},
   "source": [
    "Interestingly, the sample means vary by quite a lot within each strata. Those who are Transgender in our sample have a much lower mean age of death than those in the other gender sub-categories. Like in our proportion calculations, by doing a stratified sample, we are able to get a fairly precise estimate for the mean age of death of Transgender people in our population."
   ]
  },
  {
   "cell_type": "code",
   "execution_count": null,
   "id": "568cc7f9-4432-4cc5-8b3f-82346dffcdb2",
   "metadata": {
    "vscode": {
     "languageId": "r"
    }
   },
   "outputs": [],
   "source": [
    "## Sample mean estimate\n",
    "\n",
    "sample_mean = 0\n",
    "\n",
    "for (gender in c('Cis-Female', 'Cis-Male','Transgender','Other')) {\n",
    "    Nh = N_strata %>%\n",
    "filter(Gender == gender)\n",
    "    m_gen = strat_mean_estimate %>%\n",
    " filter(Gender==gender)\n",
    "    m = m_gen[[2]]\n",
    "    Nh = Nh[[2]]\n",
    "    sample_mean = sample_mean + (Nh/N)*m\n",
    "}\n",
    "sample_mean"
   ]
  },
  {
   "cell_type": "markdown",
   "id": "71422810-3941-499e-b35e-2b5fef8fc4f2",
   "metadata": {},
   "source": [
    "Our estimate of 68.2 is actually very close to the estimate achieved with our simple random sample (68.6). This is because our calculations take into account the percentage of each stratum in our population. This estimate may even be more accurate because we are including specific information regarding to the percentage of each gender in the population."
   ]
  },
  {
   "cell_type": "code",
   "execution_count": null,
   "id": "1901eb20-2eee-4e88-99cd-f293b5373031",
   "metadata": {
    "vscode": {
     "languageId": "r"
    }
   },
   "outputs": [],
   "source": [
    "### Sample mean standard error\n",
    "\n",
    "sum_for_se = 0\n",
    "\n",
    "for (gender in c('Cis-Female', 'Cis-Male','Transgender','Other')) {\n",
    "    Nh = N_strata %>%\n",
    "filter(Gender == gender)\n",
    "    m_gen = strat_mean_estimate %>%\n",
    " filter(Gender==gender)\n",
    "    m = m_gen[[2]]\n",
    "    nh = m_gen[[4]]\n",
    "    var = m_gen[[3]]\n",
    "    Nh = Nh[[2]]\n",
    "    sum_for_se = sum_for_se + (1-nh/Nh)*(Nh/N)^2*(var/nh)\n",
    "}\n",
    "\n",
    "SE = sqrt(sum_for_se)\n",
    "SE"
   ]
  },
  {
   "cell_type": "markdown",
   "id": "66d7b8db-36d6-40d5-ba39-e7d9b6cee8f6",
   "metadata": {},
   "source": [
    "Our standard error of about 1.44 is larger than the standard error we calculated for our simple random sample mean estimate (about 0.9). This indicates that our stratified sample estimate is less precise than our simple random sample estimate."
   ]
  },
  {
   "cell_type": "code",
   "execution_count": null,
   "id": "26beab36-41da-4d41-ac53-a0e3368bb0fe",
   "metadata": {
    "vscode": {
     "languageId": "r"
    }
   },
   "outputs": [],
   "source": [
    "upper_bound = sample_mean + 1.96*SE\n",
    "lower_bound = sample_mean - 1.96*SE\n",
    "lower_bound\n",
    "upper_bound"
   ]
  },
  {
   "cell_type": "markdown",
   "id": "9077cd33-b62d-4d7d-8500-f4988e87910b",
   "metadata": {},
   "source": [
    "Our confidence interval is around 5.6, which is close to the width of 5 that we aimed for when calculating our sample size. Also, again our confidence interval does not include the age 72.6, it seems there is no evidence here that celebrities die at an average age of 72.6."
   ]
  },
  {
   "cell_type": "markdown",
   "id": "6a274517-a4fc-4027-8c54-41a5f0d5010e",
   "metadata": {},
   "source": [
    "A benefit of using a stratified sample is that we were able to notice interesting patterns within each stratum, while making sure that the final mean estimate was representative of the population."
   ]
  },
  {
   "cell_type": "markdown",
   "id": "b9eb39cf-4530-42ed-b180-0f773cd72ff9",
   "metadata": {},
   "source": [
    "However, we have calculated these values under the assumption that each member of the population was properly sorted into the Gender sub-groups. This may not be the case as there were many missing values, and values with two Genders which got classified as \"Other.\""
   ]
  },
  {
   "cell_type": "markdown",
   "id": "994e922d",
   "metadata": {},
   "source": [
    "## Conclusion\n",
    "Overall, the population can be generalized to a larger population since we see that we have a very low standard error which is around 2.2%. We were also able to compare the proportion of deceased celebrities and we saw that we achieved a confidence interval of (69.45, 69.85) from our stratified sample estimate, which is a bit lower than the world average life expectancy of 72.6 years. We also saw that the stratified sample estimate(0.456) is more accurate than our simple random sample mean(0.492). However it can only be generalized with male and female as there was just enough data of other genders to be included in the sample size. \n",
    "\n",
    "Furthermore, we saw that the average age of death from our sampling was lower than the world average life expectancy of 72.6 years. This may be due to a few reasons such as: some of the celebrities from our samples could be from previous centuries where the life expectancy is not as high as now due to the fact that medical technology and personal hygiene were not as advanced as today. In addition, Transgender was very socially acceptable until the recent decade or so therefore the average life expectancy will be higher when compared to others where medical services are much more advanced and better. \n"
   ]
  }
 ],
 "metadata": {
  "kernelspec": {
   "display_name": "R",
   "language": "R",
   "name": "ir"
  },
  "language_info": {
   "codemirror_mode": "r",
   "file_extension": ".r",
   "mimetype": "text/x-r-source",
   "name": "R",
   "pygments_lexer": "r",
   "version": "4.0.5"
  }
 },
 "nbformat": 4,
 "nbformat_minor": 5
}
