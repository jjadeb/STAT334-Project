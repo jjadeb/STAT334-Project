{
 "cells": [
  {
   "cell_type": "markdown",
   "id": "82bff329-ce9f-438c-80f8-30492ff45093",
   "metadata": {},
   "source": [
    "# STAT 344: Group Project"
   ]
  },
  {
   "cell_type": "markdown",
   "id": "0ce98f2f",
   "metadata": {},
   "source": [
    "## Introduction\n",
    "In this project, we analyze a comprehensize [dataset](https://www.kaggle.com/datasets/imoore/age-dataset) of over 1 million deceased notable individuals. The data was collected from diverse community-submitted data to all language versions of the Wikipedia project, and is the largest dataset on notable deceased individuals. The dataset itself encompasses a wide array of details concerning the individuals, such as their gender, nationality, occupation, birth year, age at death, and more. Furthermore, the dataset includes 107k females, 124 non-binary people, and 90k researchers, who are spread across more than 300 contemporary or historical regions.\n",
    "\n",
    "We aim to estimate two parameters: the mean age of death of deceased notable individuals as a numeric feature, and the proportion of deceased notable individuals who lived above the age of 72.6 as a binary feature. Furthermore, we employ both simple random sampling and stratification on the overall dataset, such that variations from the average deceased notable individual can be determined across strata.\n",
    "\n",
    "The importance of this project lies in its potential to provide valuable insights into morality patterns of notable individuals, contributing to a deeper understanding in different period of time and regions. The analysis that we are doing in this project will help shed light on the influence of societal, cultural, and historical factors on their lives and deaths.\n",
    "\n"
   ]
  },
  {
   "cell_type": "markdown",
   "id": "7c842e3c-4b7a-4a98-b746-cc1432ede7e4",
   "metadata": {},
   "source": [
    "## Exploratory Data Analysis & Preprocessing"
   ]
  },
  {
   "cell_type": "code",
   "execution_count": 1,
   "id": "8ae4fff6-148f-447a-82c5-f659598f06fe",
   "metadata": {
    "vscode": {
     "languageId": "r"
    }
   },
   "outputs": [
    {
     "name": "stderr",
     "output_type": "stream",
     "text": [
      "── \u001b[1mAttaching packages\u001b[22m ─────────────────────────────────────── tidyverse 1.3.1 ──\n",
      "\n",
      "\u001b[32m✔\u001b[39m \u001b[34mggplot2\u001b[39m 3.3.5     \u001b[32m✔\u001b[39m \u001b[34mpurrr  \u001b[39m 0.3.4\n",
      "\u001b[32m✔\u001b[39m \u001b[34mtibble \u001b[39m 3.1.4     \u001b[32m✔\u001b[39m \u001b[34mdplyr  \u001b[39m 1.0.7\n",
      "\u001b[32m✔\u001b[39m \u001b[34mtidyr  \u001b[39m 1.1.3     \u001b[32m✔\u001b[39m \u001b[34mstringr\u001b[39m 1.4.0\n",
      "\u001b[32m✔\u001b[39m \u001b[34mreadr  \u001b[39m 2.0.1     \u001b[32m✔\u001b[39m \u001b[34mforcats\u001b[39m 0.5.1\n",
      "\n",
      "── \u001b[1mConflicts\u001b[22m ────────────────────────────────────────── tidyverse_conflicts() ──\n",
      "\u001b[31m✖\u001b[39m \u001b[34mdplyr\u001b[39m::\u001b[32mfilter()\u001b[39m masks \u001b[34mstats\u001b[39m::filter()\n",
      "\u001b[31m✖\u001b[39m \u001b[34mdplyr\u001b[39m::\u001b[32mlag()\u001b[39m    masks \u001b[34mstats\u001b[39m::lag()\n",
      "\n",
      "Registered S3 method overwritten by 'GGally':\n",
      "  method from   \n",
      "  +.gg   ggplot2\n",
      "\n"
     ]
    }
   ],
   "source": [
    "## Import statements\n",
    "library(tidyverse)\n",
    "library('GGally')"
   ]
  },
  {
   "cell_type": "code",
   "execution_count": 2,
   "id": "09c0444e-6363-4fac-8156-bf3682cb585c",
   "metadata": {
    "vscode": {
     "languageId": "r"
    }
   },
   "outputs": [
    {
     "name": "stderr",
     "output_type": "stream",
     "text": [
      "\u001b[1m\u001b[1mRows: \u001b[1m\u001b[22m\u001b[34m\u001b[34m1223009\u001b[34m\u001b[39m \u001b[1m\u001b[1mColumns: \u001b[1m\u001b[22m\u001b[34m\u001b[34m10\u001b[34m\u001b[39m\n",
      "\n",
      "\u001b[36m──\u001b[39m \u001b[1m\u001b[1mColumn specification\u001b[1m\u001b[22m \u001b[36m────────────────────────────────────────────────────────\u001b[39m\n",
      "\u001b[1mDelimiter:\u001b[22m \",\"\n",
      "\u001b[31mchr\u001b[39m (7): Id, Name, Short description, Gender, Country, Occupation, Manner of...\n",
      "\u001b[32mdbl\u001b[39m (3): Birth year, Death year, Age of death\n",
      "\n",
      "\n",
      "\u001b[36mℹ\u001b[39m Use \u001b[30m\u001b[47m\u001b[30m\u001b[47m`spec()`\u001b[47m\u001b[30m\u001b[49m\u001b[39m to retrieve the full column specification for this data.\n",
      "\u001b[36mℹ\u001b[39m Specify the column types or set \u001b[30m\u001b[47m\u001b[30m\u001b[47m`show_col_types = FALSE`\u001b[47m\u001b[30m\u001b[49m\u001b[39m to quiet this message.\n",
      "\n",
      "Warning message:\n",
      "“`funs()` was deprecated in dplyr 0.8.0.\n",
      "Please use a list of either functions or lambdas: \n",
      "\n",
      "  # Simple named list: \n",
      "  list(mean = mean, median = median)\n",
      "\n",
      "  # Auto named with `tibble::lst()`: \n",
      "  tibble::lst(mean, median)\n",
      "\n",
      "  # Using lambdas\n",
      "  list(~ mean(., trim = .2), ~ median(., na.rm = TRUE))\n",
      "\u001b[90mThis warning is displayed once every 8 hours.\u001b[39m\n",
      "\u001b[90mCall `lifecycle::last_lifecycle_warnings()` to see where this warning was generated.\u001b[39m”\n"
     ]
    }
   ],
   "source": [
    "age_df <- read_csv('./AgeDataset-V1.csv', na=c(\"\",\" \",\"NA\")) # to run this line, make sure the dataset is installed in the project root directory\n",
    "age_df <- age_df %>% rename_all(funs(make.names(.)))"
   ]
  },
  {
   "cell_type": "code",
   "execution_count": 3,
   "id": "824cf20e-4395-4517-8977-ab068c25c215",
   "metadata": {
    "vscode": {
     "languageId": "r"
    }
   },
   "outputs": [
    {
     "data": {
      "text/html": [
       "<table class=\"dataframe\">\n",
       "<caption>A tibble: 6 × 10</caption>\n",
       "<thead>\n",
       "\t<tr><th scope=col>Id</th><th scope=col>Name</th><th scope=col>Short.description</th><th scope=col>Gender</th><th scope=col>Country</th><th scope=col>Occupation</th><th scope=col>Birth.year</th><th scope=col>Death.year</th><th scope=col>Manner.of.death</th><th scope=col>Age.of.death</th></tr>\n",
       "\t<tr><th scope=col>&lt;chr&gt;</th><th scope=col>&lt;chr&gt;</th><th scope=col>&lt;chr&gt;</th><th scope=col>&lt;chr&gt;</th><th scope=col>&lt;chr&gt;</th><th scope=col>&lt;chr&gt;</th><th scope=col>&lt;dbl&gt;</th><th scope=col>&lt;dbl&gt;</th><th scope=col>&lt;chr&gt;</th><th scope=col>&lt;dbl&gt;</th></tr>\n",
       "</thead>\n",
       "<tbody>\n",
       "\t<tr><td>Q23 </td><td>George Washington        </td><td>1st president of the United States (1732–1799) </td><td>Male</td><td>United States of America; Kingdom of Great Britain</td><td>Politician  </td><td>1732</td><td>1799</td><td>natural causes</td><td>67</td></tr>\n",
       "\t<tr><td>Q42 </td><td>Douglas Adams            </td><td>English writer and humorist                    </td><td>Male</td><td>United Kingdom                                    </td><td>Artist      </td><td>1952</td><td>2001</td><td>natural causes</td><td>49</td></tr>\n",
       "\t<tr><td>Q91 </td><td>Abraham Lincoln          </td><td>16th president of the United States (1809-1865)</td><td>Male</td><td>United States of America                          </td><td>Politician  </td><td>1809</td><td>1865</td><td>homicide      </td><td>56</td></tr>\n",
       "\t<tr><td>Q254</td><td>Wolfgang Amadeus Mozart  </td><td>Austrian composer of the Classical period      </td><td>Male</td><td>Archduchy of Austria; Archbishopric of Salzburg   </td><td>Artist      </td><td>1756</td><td>1791</td><td>NA            </td><td>35</td></tr>\n",
       "\t<tr><td>Q255</td><td>Ludwig van Beethoven     </td><td>German classical and romantic composer         </td><td>Male</td><td>Holy Roman Empire; Austrian Empire                </td><td>Artist      </td><td>1770</td><td>1827</td><td>NA            </td><td>57</td></tr>\n",
       "\t<tr><td>Q260</td><td>Jean-François Champollion</td><td>French classical scholar                       </td><td>Male</td><td>Kingdom of France; First French Empire            </td><td>Egyptologist</td><td>1790</td><td>1832</td><td>natural causes</td><td>42</td></tr>\n",
       "</tbody>\n",
       "</table>\n"
      ],
      "text/latex": [
       "A tibble: 6 × 10\n",
       "\\begin{tabular}{llllllllll}\n",
       " Id & Name & Short.description & Gender & Country & Occupation & Birth.year & Death.year & Manner.of.death & Age.of.death\\\\\n",
       " <chr> & <chr> & <chr> & <chr> & <chr> & <chr> & <dbl> & <dbl> & <chr> & <dbl>\\\\\n",
       "\\hline\n",
       "\t Q23  & George Washington         & 1st president of the United States (1732–1799)  & Male & United States of America; Kingdom of Great Britain & Politician   & 1732 & 1799 & natural causes & 67\\\\\n",
       "\t Q42  & Douglas Adams             & English writer and humorist                     & Male & United Kingdom                                     & Artist       & 1952 & 2001 & natural causes & 49\\\\\n",
       "\t Q91  & Abraham Lincoln           & 16th president of the United States (1809-1865) & Male & United States of America                           & Politician   & 1809 & 1865 & homicide       & 56\\\\\n",
       "\t Q254 & Wolfgang Amadeus Mozart   & Austrian composer of the Classical period       & Male & Archduchy of Austria; Archbishopric of Salzburg    & Artist       & 1756 & 1791 & NA             & 35\\\\\n",
       "\t Q255 & Ludwig van Beethoven      & German classical and romantic composer          & Male & Holy Roman Empire; Austrian Empire                 & Artist       & 1770 & 1827 & NA             & 57\\\\\n",
       "\t Q260 & Jean-François Champollion & French classical scholar                        & Male & Kingdom of France; First French Empire             & Egyptologist & 1790 & 1832 & natural causes & 42\\\\\n",
       "\\end{tabular}\n"
      ],
      "text/markdown": [
       "\n",
       "A tibble: 6 × 10\n",
       "\n",
       "| Id &lt;chr&gt; | Name &lt;chr&gt; | Short.description &lt;chr&gt; | Gender &lt;chr&gt; | Country &lt;chr&gt; | Occupation &lt;chr&gt; | Birth.year &lt;dbl&gt; | Death.year &lt;dbl&gt; | Manner.of.death &lt;chr&gt; | Age.of.death &lt;dbl&gt; |\n",
       "|---|---|---|---|---|---|---|---|---|---|\n",
       "| Q23  | George Washington         | 1st president of the United States (1732–1799)  | Male | United States of America; Kingdom of Great Britain | Politician   | 1732 | 1799 | natural causes | 67 |\n",
       "| Q42  | Douglas Adams             | English writer and humorist                     | Male | United Kingdom                                     | Artist       | 1952 | 2001 | natural causes | 49 |\n",
       "| Q91  | Abraham Lincoln           | 16th president of the United States (1809-1865) | Male | United States of America                           | Politician   | 1809 | 1865 | homicide       | 56 |\n",
       "| Q254 | Wolfgang Amadeus Mozart   | Austrian composer of the Classical period       | Male | Archduchy of Austria; Archbishopric of Salzburg    | Artist       | 1756 | 1791 | NA             | 35 |\n",
       "| Q255 | Ludwig van Beethoven      | German classical and romantic composer          | Male | Holy Roman Empire; Austrian Empire                 | Artist       | 1770 | 1827 | NA             | 57 |\n",
       "| Q260 | Jean-François Champollion | French classical scholar                        | Male | Kingdom of France; First French Empire             | Egyptologist | 1790 | 1832 | natural causes | 42 |\n",
       "\n"
      ],
      "text/plain": [
       "  Id   Name                     \n",
       "1 Q23  George Washington        \n",
       "2 Q42  Douglas Adams            \n",
       "3 Q91  Abraham Lincoln          \n",
       "4 Q254 Wolfgang Amadeus Mozart  \n",
       "5 Q255 Ludwig van Beethoven     \n",
       "6 Q260 Jean-François Champollion\n",
       "  Short.description                               Gender\n",
       "1 1st president of the United States (1732–1799)  Male  \n",
       "2 English writer and humorist                     Male  \n",
       "3 16th president of the United States (1809-1865) Male  \n",
       "4 Austrian composer of the Classical period       Male  \n",
       "5 German classical and romantic composer          Male  \n",
       "6 French classical scholar                        Male  \n",
       "  Country                                            Occupation   Birth.year\n",
       "1 United States of America; Kingdom of Great Britain Politician   1732      \n",
       "2 United Kingdom                                     Artist       1952      \n",
       "3 United States of America                           Politician   1809      \n",
       "4 Archduchy of Austria; Archbishopric of Salzburg    Artist       1756      \n",
       "5 Holy Roman Empire; Austrian Empire                 Artist       1770      \n",
       "6 Kingdom of France; First French Empire             Egyptologist 1790      \n",
       "  Death.year Manner.of.death Age.of.death\n",
       "1 1799       natural causes  67          \n",
       "2 2001       natural causes  49          \n",
       "3 1865       homicide        56          \n",
       "4 1791       NA              35          \n",
       "5 1827       NA              57          \n",
       "6 1832       natural causes  42          "
      ]
     },
     "metadata": {},
     "output_type": "display_data"
    }
   ],
   "source": [
    "# Quick look at what the data looks like\n",
    "head(age_df)"
   ]
  },
  {
   "cell_type": "code",
   "execution_count": 4,
   "id": "a6ee83e9-c750-42d3-8021-e87ce9ac561e",
   "metadata": {
    "vscode": {
     "languageId": "r"
    }
   },
   "outputs": [],
   "source": [
    "set.seed(123)"
   ]
  },
  {
   "cell_type": "markdown",
   "id": "2e5e747a-ca32-4d8d-a8cb-e9bc178c251c",
   "metadata": {},
   "source": [
    "As per the project introduction, the dataset contains 1.2 million observations; to confirm this, the following code cell provides an exact number. The large sample size allows us to treat the dataset as a \"population\" for all notable deceased individuals."
   ]
  },
  {
   "cell_type": "code",
   "execution_count": 5,
   "id": "3302600c-255e-4eed-99da-66cf3c272803",
   "metadata": {
    "vscode": {
     "languageId": "r"
    }
   },
   "outputs": [
    {
     "data": {
      "text/html": [
       "1223009"
      ],
      "text/latex": [
       "1223009"
      ],
      "text/markdown": [
       "1223009"
      ],
      "text/plain": [
       "[1] 1223009"
      ]
     },
     "metadata": {},
     "output_type": "display_data"
    }
   ],
   "source": [
    "pop_n <- nrow(age_df)\n",
    "pop_n"
   ]
  },
  {
   "cell_type": "markdown",
   "id": "0ad29240",
   "metadata": {},
   "source": [
    "To determine an appropriate stratification scheme, we first need to explore each categorical variable in the dataset. As seen in the above, there are 4 categorical variables: Gender, Country, Occupation, and Age of death. The remaining `<chr>` columns are incompatible with the scope of this project; for example, the Short description variable would require natural language processing to extract any meaningful information, and the ID/Name are unique indentifiers which would provide no useful information for our parameter estimation."
   ]
  },
  {
   "cell_type": "code",
   "execution_count": 6,
   "id": "37e8509d",
   "metadata": {
    "vscode": {
     "languageId": "r"
    }
   },
   "outputs": [
    {
     "data": {
      "text/html": [
       "5962"
      ],
      "text/latex": [
       "5962"
      ],
      "text/markdown": [
       "5962"
      ],
      "text/plain": [
       "[1] 5962"
      ]
     },
     "metadata": {},
     "output_type": "display_data"
    }
   ],
   "source": [
    "age_df %>%  # find number of unique Countries\n",
    "    select(Country) %>%\n",
    "    n_distinct()"
   ]
  },
  {
   "cell_type": "markdown",
   "id": "0d5160d8",
   "metadata": {},
   "source": [
    "The above code cell demonstrates the large number of countries within the dataset. Since the dataset spans multiple centuries, modern day countries may not exist in large subsets of the population, vice versa; For example, the \"Kingdom of Great Britain\" has evolved into the \"United Kingdom\". These changes over time are too varied to be meaningfully wrangled into a useable form for the project. As such, we remove this variable from the analysis"
   ]
  },
  {
   "cell_type": "code",
   "execution_count": 7,
   "id": "80e4c74f",
   "metadata": {
    "vscode": {
     "languageId": "r"
    }
   },
   "outputs": [
    {
     "data": {
      "text/html": [
       "9314"
      ],
      "text/latex": [
       "9314"
      ],
      "text/markdown": [
       "9314"
      ],
      "text/plain": [
       "[1] 9314"
      ]
     },
     "metadata": {},
     "output_type": "display_data"
    }
   ],
   "source": [
    "age_df %>%  # find number of unique Occupations\n",
    "    select(Occupation) %>%\n",
    "    n_distinct()"
   ]
  },
  {
   "cell_type": "markdown",
   "id": "097986b9",
   "metadata": {},
   "source": [
    "Similarly to the Country variable, the Occupation variable has a large number of unique values. Even if there exists a standardized formatting of a given occupation; i.e. Mathematician; where a significant number of individuals are encompassed, there is a high likelihood where only a single individual exists for a given occupation."
   ]
  },
  {
   "cell_type": "code",
   "execution_count": 8,
   "id": "9799a830",
   "metadata": {
    "vscode": {
     "languageId": "r"
    }
   },
   "outputs": [
    {
     "data": {
      "text/html": [
       "207"
      ],
      "text/latex": [
       "207"
      ],
      "text/markdown": [
       "207"
      ],
      "text/plain": [
       "[1] 207"
      ]
     },
     "metadata": {},
     "output_type": "display_data"
    },
    {
     "data": {
      "text/html": [
       "1169406"
      ],
      "text/latex": [
       "1169406"
      ],
      "text/markdown": [
       "1169406"
      ],
      "text/plain": [
       "[1] 1169406"
      ]
     },
     "metadata": {},
     "output_type": "display_data"
    }
   ],
   "source": [
    "age_df %>%  # find number of unique Manner of deaths\n",
    "    select(Manner.of.death) %>%\n",
    "    n_distinct()\n",
    "sum(is.na(age_df$Manner.of.death))"
   ]
  },
  {
   "cell_type": "markdown",
   "id": "3432d283",
   "metadata": {},
   "source": [
    "The Manner of death variable has fewer unique values; However, the same points as the Country variable still hold true such that it would be an unrealistic variable to stratify. Additionally, around 50% of the population dataset has missing values for this variable; data inputation for this feature would be difficult and out of the scope of the project."
   ]
  },
  {
   "cell_type": "code",
   "execution_count": 9,
   "id": "4426a3fb",
   "metadata": {
    "vscode": {
     "languageId": "r"
    }
   },
   "outputs": [
    {
     "data": {
      "text/html": [
       "21"
      ],
      "text/latex": [
       "21"
      ],
      "text/markdown": [
       "21"
      ],
      "text/plain": [
       "[1] 21"
      ]
     },
     "metadata": {},
     "output_type": "display_data"
    }
   ],
   "source": [
    "age_df %>%  # find number of unique Genders\n",
    "    select(Gender) %>%\n",
    "    n_distinct()"
   ]
  },
  {
   "cell_type": "markdown",
   "id": "0181a0c1",
   "metadata": {},
   "source": [
    "The Gender variable has the least unique values; this makes it ideal to stratify. The below code cell demonstrates the different genders within the population dataset."
   ]
  },
  {
   "cell_type": "code",
   "execution_count": 10,
   "id": "edc71062-adfe-4989-975e-81c59ee9405f",
   "metadata": {
    "vscode": {
     "languageId": "r"
    }
   },
   "outputs": [
    {
     "data": {
      "text/html": [
       "<table class=\"dataframe\">\n",
       "<caption>A data.frame: 20 × 2</caption>\n",
       "<thead>\n",
       "\t<tr><th></th><th scope=col>Var1</th><th scope=col>Freq</th></tr>\n",
       "\t<tr><th></th><th scope=col>&lt;fct&gt;</th><th scope=col>&lt;int&gt;</th></tr>\n",
       "</thead>\n",
       "<tbody>\n",
       "\t<tr><th scope=row>10</th><td>Male                                          </td><td>981365</td></tr>\n",
       "\t<tr><th scope=row>3</th><td>Female                                        </td><td>107830</td></tr>\n",
       "\t<tr><th scope=row>13</th><td>Transgender Female                            </td><td>    79</td></tr>\n",
       "\t<tr><th scope=row>17</th><td>Transgender Male                              </td><td>    36</td></tr>\n",
       "\t<tr><th scope=row>2</th><td>Eunuch; Male                                  </td><td>    18</td></tr>\n",
       "\t<tr><th scope=row>5</th><td>Female; Male                                  </td><td>     7</td></tr>\n",
       "\t<tr><th scope=row>6</th><td>Intersex                                      </td><td>     7</td></tr>\n",
       "\t<tr><th scope=row>1</th><td>Eunuch                                        </td><td>     3</td></tr>\n",
       "\t<tr><th scope=row>18</th><td>Transgender Male; Female                      </td><td>     3</td></tr>\n",
       "\t<tr><th scope=row>7</th><td>Intersex; Female                              </td><td>     2</td></tr>\n",
       "\t<tr><th scope=row>8</th><td>Intersex; Male                                </td><td>     2</td></tr>\n",
       "\t<tr><th scope=row>11</th><td>Non-Binary                                    </td><td>     2</td></tr>\n",
       "\t<tr><th scope=row>16</th><td>Transgender Female; Male                      </td><td>     2</td></tr>\n",
       "\t<tr><th scope=row>4</th><td>Female; Female                                </td><td>     1</td></tr>\n",
       "\t<tr><th scope=row>9</th><td>Intersex; Transgender Male                    </td><td>     1</td></tr>\n",
       "\t<tr><th scope=row>12</th><td>Non-Binary; Intersex                          </td><td>     1</td></tr>\n",
       "\t<tr><th scope=row>14</th><td>Transgender Female; Female                    </td><td>     1</td></tr>\n",
       "\t<tr><th scope=row>15</th><td>Transgender Female; Intersex                  </td><td>     1</td></tr>\n",
       "\t<tr><th scope=row>19</th><td>Transgender Male; Male                        </td><td>     1</td></tr>\n",
       "\t<tr><th scope=row>20</th><td>Transgender Person; Intersex; Transgender Male</td><td>     1</td></tr>\n",
       "</tbody>\n",
       "</table>\n"
      ],
      "text/latex": [
       "A data.frame: 20 × 2\n",
       "\\begin{tabular}{r|ll}\n",
       "  & Var1 & Freq\\\\\n",
       "  & <fct> & <int>\\\\\n",
       "\\hline\n",
       "\t10 & Male                                           & 981365\\\\\n",
       "\t3 & Female                                         & 107830\\\\\n",
       "\t13 & Transgender Female                             &     79\\\\\n",
       "\t17 & Transgender Male                               &     36\\\\\n",
       "\t2 & Eunuch; Male                                   &     18\\\\\n",
       "\t5 & Female; Male                                   &      7\\\\\n",
       "\t6 & Intersex                                       &      7\\\\\n",
       "\t1 & Eunuch                                         &      3\\\\\n",
       "\t18 & Transgender Male; Female                       &      3\\\\\n",
       "\t7 & Intersex; Female                               &      2\\\\\n",
       "\t8 & Intersex; Male                                 &      2\\\\\n",
       "\t11 & Non-Binary                                     &      2\\\\\n",
       "\t16 & Transgender Female; Male                       &      2\\\\\n",
       "\t4 & Female; Female                                 &      1\\\\\n",
       "\t9 & Intersex; Transgender Male                     &      1\\\\\n",
       "\t12 & Non-Binary; Intersex                           &      1\\\\\n",
       "\t14 & Transgender Female; Female                     &      1\\\\\n",
       "\t15 & Transgender Female; Intersex                   &      1\\\\\n",
       "\t19 & Transgender Male; Male                         &      1\\\\\n",
       "\t20 & Transgender Person; Intersex; Transgender Male &      1\\\\\n",
       "\\end{tabular}\n"
      ],
      "text/markdown": [
       "\n",
       "A data.frame: 20 × 2\n",
       "\n",
       "| <!--/--> | Var1 &lt;fct&gt; | Freq &lt;int&gt; |\n",
       "|---|---|---|\n",
       "| 10 | Male                                           | 981365 |\n",
       "| 3 | Female                                         | 107830 |\n",
       "| 13 | Transgender Female                             |     79 |\n",
       "| 17 | Transgender Male                               |     36 |\n",
       "| 2 | Eunuch; Male                                   |     18 |\n",
       "| 5 | Female; Male                                   |      7 |\n",
       "| 6 | Intersex                                       |      7 |\n",
       "| 1 | Eunuch                                         |      3 |\n",
       "| 18 | Transgender Male; Female                       |      3 |\n",
       "| 7 | Intersex; Female                               |      2 |\n",
       "| 8 | Intersex; Male                                 |      2 |\n",
       "| 11 | Non-Binary                                     |      2 |\n",
       "| 16 | Transgender Female; Male                       |      2 |\n",
       "| 4 | Female; Female                                 |      1 |\n",
       "| 9 | Intersex; Transgender Male                     |      1 |\n",
       "| 12 | Non-Binary; Intersex                           |      1 |\n",
       "| 14 | Transgender Female; Female                     |      1 |\n",
       "| 15 | Transgender Female; Intersex                   |      1 |\n",
       "| 19 | Transgender Male; Male                         |      1 |\n",
       "| 20 | Transgender Person; Intersex; Transgender Male |      1 |\n",
       "\n"
      ],
      "text/plain": [
       "   Var1                                           Freq  \n",
       "10 Male                                           981365\n",
       "3  Female                                         107830\n",
       "13 Transgender Female                                 79\n",
       "17 Transgender Male                                   36\n",
       "2  Eunuch; Male                                       18\n",
       "5  Female; Male                                        7\n",
       "6  Intersex                                            7\n",
       "1  Eunuch                                              3\n",
       "18 Transgender Male; Female                            3\n",
       "7  Intersex; Female                                    2\n",
       "8  Intersex; Male                                      2\n",
       "11 Non-Binary                                          2\n",
       "16 Transgender Female; Male                            2\n",
       "4  Female; Female                                      1\n",
       "9  Intersex; Transgender Male                          1\n",
       "12 Non-Binary; Intersex                                1\n",
       "14 Transgender Female; Female                          1\n",
       "15 Transgender Female; Intersex                        1\n",
       "19 Transgender Male; Male                              1\n",
       "20 Transgender Person; Intersex; Transgender Male      1"
      ]
     },
     "metadata": {},
     "output_type": "display_data"
    }
   ],
   "source": [
    "gender_counts <- data.frame(table(age_df['Gender']))\n",
    "gender_counts[order(gender_counts$Freq, decreasing = TRUE), ]"
   ]
  },
  {
   "cell_type": "markdown",
   "id": "b4ee06c6-aa79-4557-ba0a-d1c0121e817e",
   "metadata": {},
   "source": [
    "For stratified sampling, we need large enough groups. We can minimize the number of sub-categories by simplifying them to Male, Female, Transgender, and other. Where other encapsulates missing values, intersex, non-binary, and values that are not clear such as 'Female; Male'. While we know intersex and non-binary are not the same thing, we need groups large enough to be used in stratification."
   ]
  },
  {
   "cell_type": "code",
   "execution_count": 11,
   "id": "5e3c6faf-b146-4586-a60e-dc0121b81134",
   "metadata": {
    "vscode": {
     "languageId": "r"
    }
   },
   "outputs": [],
   "source": [
    "gender_dictionary <- c('Eunuch; Male'='Male','Female; Male'='Other','Transgender Male; Female'='Transgender',\n",
    "                          'Intersex; Female'='Other','Intersex; Male'='Other', \n",
    "                          'Transgender Female; Male'='Transgender','Female; Female'='Female',\n",
    "                          'Transgender Female; Intersex'='Transgender',\n",
    "                          'Transgender Female; Female'='Transgender', \n",
    "                          'Transgender Female'='Transgender',\n",
    "                          'Transgender Male'='Transgender',\n",
    "                          'Transgender Male; Male'='Transgender',\n",
    "                          'Intersex'='Other',\n",
    "                          'Intersex; Transgender Male'='Transgender',\n",
    "                          'Transgender Person; Intersex; Transgender Male'='Transgender',\n",
    "                          'Non-Binary; Intersex'='Other', 'Eunuch'='Male', 'Non-Binary'='Other')"
   ]
  },
  {
   "cell_type": "code",
   "execution_count": 12,
   "id": "5b460446-8719-4f27-b03f-012b1ce73d24",
   "metadata": {
    "vscode": {
     "languageId": "r"
    }
   },
   "outputs": [],
   "source": [
    "age_df$Gender = age_df$Gender %>% replace_na('Other')"
   ]
  },
  {
   "cell_type": "code",
   "execution_count": 13,
   "id": "51eb4424-4134-4585-a6f4-0203e0eefb31",
   "metadata": {
    "vscode": {
     "languageId": "r"
    }
   },
   "outputs": [],
   "source": [
    "for (i in seq(1,length(gender_dictionary))){\n",
    "    new_gender <- gender_dictionary[i]\n",
    "    old_gender <- names(new_gender)\n",
    "    age_df$Gender[age_df$Gender==old_gender]<-new_gender\n",
    "    }"
   ]
  },
  {
   "cell_type": "code",
   "execution_count": 14,
   "id": "7d0a8dae-fe96-4432-b90a-d00d51c5dadf",
   "metadata": {
    "vscode": {
     "languageId": "r"
    }
   },
   "outputs": [
    {
     "data": {
      "text/html": [
       "<table class=\"dataframe\">\n",
       "<caption>A data.frame: 4 × 2</caption>\n",
       "<thead>\n",
       "\t<tr><th></th><th scope=col>Var1</th><th scope=col>Freq</th></tr>\n",
       "\t<tr><th></th><th scope=col>&lt;fct&gt;</th><th scope=col>&lt;int&gt;</th></tr>\n",
       "</thead>\n",
       "<tbody>\n",
       "\t<tr><th scope=row>2</th><td>Male       </td><td>981386</td></tr>\n",
       "\t<tr><th scope=row>3</th><td>Other      </td><td>133667</td></tr>\n",
       "\t<tr><th scope=row>1</th><td>Female     </td><td>107831</td></tr>\n",
       "\t<tr><th scope=row>4</th><td>Transgender</td><td>   125</td></tr>\n",
       "</tbody>\n",
       "</table>\n"
      ],
      "text/latex": [
       "A data.frame: 4 × 2\n",
       "\\begin{tabular}{r|ll}\n",
       "  & Var1 & Freq\\\\\n",
       "  & <fct> & <int>\\\\\n",
       "\\hline\n",
       "\t2 & Male        & 981386\\\\\n",
       "\t3 & Other       & 133667\\\\\n",
       "\t1 & Female      & 107831\\\\\n",
       "\t4 & Transgender &    125\\\\\n",
       "\\end{tabular}\n"
      ],
      "text/markdown": [
       "\n",
       "A data.frame: 4 × 2\n",
       "\n",
       "| <!--/--> | Var1 &lt;fct&gt; | Freq &lt;int&gt; |\n",
       "|---|---|---|\n",
       "| 2 | Male        | 981386 |\n",
       "| 3 | Other       | 133667 |\n",
       "| 1 | Female      | 107831 |\n",
       "| 4 | Transgender |    125 |\n",
       "\n"
      ],
      "text/plain": [
       "  Var1        Freq  \n",
       "2 Male        981386\n",
       "3 Other       133667\n",
       "1 Female      107831\n",
       "4 Transgender    125"
      ]
     },
     "metadata": {},
     "output_type": "display_data"
    }
   ],
   "source": [
    "gender_counts <- data.frame(table(age_df['Gender']))\n",
    "gender_counts[order(gender_counts$Freq, decreasing = TRUE), ]"
   ]
  },
  {
   "cell_type": "markdown",
   "id": "641305d7-a876-4c1a-acb6-14a6a77ddbdb",
   "metadata": {},
   "source": [
    "We will also re-lable \"Male\" and \"Female\" to \"Cis-Male\" and \"Cis-Female\" so as not to imply that Transgender Females are not Female, etc."
   ]
  },
  {
   "cell_type": "code",
   "execution_count": 15,
   "id": "b1d89d95-169a-4f55-9d28-9cd8d579485d",
   "metadata": {
    "vscode": {
     "languageId": "r"
    }
   },
   "outputs": [],
   "source": [
    "age_df$Gender[age_df$Gender == 'Male'] <- 'Cis-Male'"
   ]
  },
  {
   "cell_type": "code",
   "execution_count": 16,
   "id": "d0654740-01ec-4536-bde3-486a1f16a581",
   "metadata": {
    "vscode": {
     "languageId": "r"
    }
   },
   "outputs": [],
   "source": [
    "age_df$Gender[age_df$Gender == 'Female'] <- 'Cis-Female'"
   ]
  },
  {
   "cell_type": "code",
   "execution_count": 17,
   "id": "39257c0e",
   "metadata": {
    "vscode": {
     "languageId": "r"
    }
   },
   "outputs": [
    {
     "data": {
      "text/html": [
       "<table class=\"dataframe\">\n",
       "<caption>A tibble: 3 × 10</caption>\n",
       "<thead>\n",
       "\t<tr><th scope=col>Id</th><th scope=col>Name</th><th scope=col>Short.description</th><th scope=col>Gender</th><th scope=col>Country</th><th scope=col>Occupation</th><th scope=col>Birth.year</th><th scope=col>Death.year</th><th scope=col>Manner.of.death</th><th scope=col>Age.of.death</th></tr>\n",
       "\t<tr><th scope=col>&lt;chr&gt;</th><th scope=col>&lt;chr&gt;</th><th scope=col>&lt;chr&gt;</th><th scope=col>&lt;chr&gt;</th><th scope=col>&lt;chr&gt;</th><th scope=col>&lt;chr&gt;</th><th scope=col>&lt;dbl&gt;</th><th scope=col>&lt;dbl&gt;</th><th scope=col>&lt;chr&gt;</th><th scope=col>&lt;dbl&gt;</th></tr>\n",
       "</thead>\n",
       "<tbody>\n",
       "\t<tr><td>Q23</td><td>George Washington</td><td>1st president of the United States (1732–1799) </td><td>Cis-Male</td><td>United States of America; Kingdom of Great Britain</td><td>Politician</td><td>1732</td><td>1799</td><td>natural causes</td><td>67</td></tr>\n",
       "\t<tr><td>Q42</td><td>Douglas Adams    </td><td>English writer and humorist                    </td><td>Cis-Male</td><td>United Kingdom                                    </td><td>Artist    </td><td>1952</td><td>2001</td><td>natural causes</td><td>49</td></tr>\n",
       "\t<tr><td>Q91</td><td>Abraham Lincoln  </td><td>16th president of the United States (1809-1865)</td><td>Cis-Male</td><td>United States of America                          </td><td>Politician</td><td>1809</td><td>1865</td><td>homicide      </td><td>56</td></tr>\n",
       "</tbody>\n",
       "</table>\n"
      ],
      "text/latex": [
       "A tibble: 3 × 10\n",
       "\\begin{tabular}{llllllllll}\n",
       " Id & Name & Short.description & Gender & Country & Occupation & Birth.year & Death.year & Manner.of.death & Age.of.death\\\\\n",
       " <chr> & <chr> & <chr> & <chr> & <chr> & <chr> & <dbl> & <dbl> & <chr> & <dbl>\\\\\n",
       "\\hline\n",
       "\t Q23 & George Washington & 1st president of the United States (1732–1799)  & Cis-Male & United States of America; Kingdom of Great Britain & Politician & 1732 & 1799 & natural causes & 67\\\\\n",
       "\t Q42 & Douglas Adams     & English writer and humorist                     & Cis-Male & United Kingdom                                     & Artist     & 1952 & 2001 & natural causes & 49\\\\\n",
       "\t Q91 & Abraham Lincoln   & 16th president of the United States (1809-1865) & Cis-Male & United States of America                           & Politician & 1809 & 1865 & homicide       & 56\\\\\n",
       "\\end{tabular}\n"
      ],
      "text/markdown": [
       "\n",
       "A tibble: 3 × 10\n",
       "\n",
       "| Id &lt;chr&gt; | Name &lt;chr&gt; | Short.description &lt;chr&gt; | Gender &lt;chr&gt; | Country &lt;chr&gt; | Occupation &lt;chr&gt; | Birth.year &lt;dbl&gt; | Death.year &lt;dbl&gt; | Manner.of.death &lt;chr&gt; | Age.of.death &lt;dbl&gt; |\n",
       "|---|---|---|---|---|---|---|---|---|---|\n",
       "| Q23 | George Washington | 1st president of the United States (1732–1799)  | Cis-Male | United States of America; Kingdom of Great Britain | Politician | 1732 | 1799 | natural causes | 67 |\n",
       "| Q42 | Douglas Adams     | English writer and humorist                     | Cis-Male | United Kingdom                                     | Artist     | 1952 | 2001 | natural causes | 49 |\n",
       "| Q91 | Abraham Lincoln   | 16th president of the United States (1809-1865) | Cis-Male | United States of America                           | Politician | 1809 | 1865 | homicide       | 56 |\n",
       "\n"
      ],
      "text/plain": [
       "  Id  Name              Short.description                              \n",
       "1 Q23 George Washington 1st president of the United States (1732–1799) \n",
       "2 Q42 Douglas Adams     English writer and humorist                    \n",
       "3 Q91 Abraham Lincoln   16th president of the United States (1809-1865)\n",
       "  Gender   Country                                            Occupation\n",
       "1 Cis-Male United States of America; Kingdom of Great Britain Politician\n",
       "2 Cis-Male United Kingdom                                     Artist    \n",
       "3 Cis-Male United States of America                           Politician\n",
       "  Birth.year Death.year Manner.of.death Age.of.death\n",
       "1 1732       1799       natural causes  67          \n",
       "2 1952       2001       natural causes  49          \n",
       "3 1809       1865       homicide        56          "
      ]
     },
     "metadata": {},
     "output_type": "display_data"
    },
    {
     "data": {
      "text/html": [
       "<table class=\"dataframe\">\n",
       "<caption>A tibble: 3 × 10</caption>\n",
       "<thead>\n",
       "\t<tr><th scope=col>Id</th><th scope=col>Name</th><th scope=col>Short.description</th><th scope=col>Gender</th><th scope=col>Country</th><th scope=col>Occupation</th><th scope=col>Birth.year</th><th scope=col>Death.year</th><th scope=col>Manner.of.death</th><th scope=col>Age.of.death</th></tr>\n",
       "\t<tr><th scope=col>&lt;chr&gt;</th><th scope=col>&lt;chr&gt;</th><th scope=col>&lt;chr&gt;</th><th scope=col>&lt;chr&gt;</th><th scope=col>&lt;chr&gt;</th><th scope=col>&lt;chr&gt;</th><th scope=col>&lt;dbl&gt;</th><th scope=col>&lt;dbl&gt;</th><th scope=col>&lt;chr&gt;</th><th scope=col>&lt;dbl&gt;</th></tr>\n",
       "</thead>\n",
       "<tbody>\n",
       "\t<tr><td>Q77249818</td><td>Diether Todenhagen     </td><td>German navy officer and world war II U-boat commander              </td><td>Other   </td><td>Germany       </td><td>Military personnel</td><td>1920</td><td>1944</td><td>NA</td><td>24</td></tr>\n",
       "\t<tr><td>Q77253909</td><td>Reginald Oswald Pearson</td><td>English artist, working in stained glass, printmaking and jewellery</td><td>Cis-Male</td><td>United Kingdom</td><td>Artist            </td><td>1887</td><td>1915</td><td>NA</td><td>28</td></tr>\n",
       "\t<tr><td>Q77254864</td><td>Horst Lerche           </td><td>German painter                                                     </td><td>Cis-Male</td><td>Germany       </td><td>Artist            </td><td>1938</td><td>2017</td><td>NA</td><td>79</td></tr>\n",
       "</tbody>\n",
       "</table>\n"
      ],
      "text/latex": [
       "A tibble: 3 × 10\n",
       "\\begin{tabular}{llllllllll}\n",
       " Id & Name & Short.description & Gender & Country & Occupation & Birth.year & Death.year & Manner.of.death & Age.of.death\\\\\n",
       " <chr> & <chr> & <chr> & <chr> & <chr> & <chr> & <dbl> & <dbl> & <chr> & <dbl>\\\\\n",
       "\\hline\n",
       "\t Q77249818 & Diether Todenhagen      & German navy officer and world war II U-boat commander               & Other    & Germany        & Military personnel & 1920 & 1944 & NA & 24\\\\\n",
       "\t Q77253909 & Reginald Oswald Pearson & English artist, working in stained glass, printmaking and jewellery & Cis-Male & United Kingdom & Artist             & 1887 & 1915 & NA & 28\\\\\n",
       "\t Q77254864 & Horst Lerche            & German painter                                                      & Cis-Male & Germany        & Artist             & 1938 & 2017 & NA & 79\\\\\n",
       "\\end{tabular}\n"
      ],
      "text/markdown": [
       "\n",
       "A tibble: 3 × 10\n",
       "\n",
       "| Id &lt;chr&gt; | Name &lt;chr&gt; | Short.description &lt;chr&gt; | Gender &lt;chr&gt; | Country &lt;chr&gt; | Occupation &lt;chr&gt; | Birth.year &lt;dbl&gt; | Death.year &lt;dbl&gt; | Manner.of.death &lt;chr&gt; | Age.of.death &lt;dbl&gt; |\n",
       "|---|---|---|---|---|---|---|---|---|---|\n",
       "| Q77249818 | Diether Todenhagen      | German navy officer and world war II U-boat commander               | Other    | Germany        | Military personnel | 1920 | 1944 | NA | 24 |\n",
       "| Q77253909 | Reginald Oswald Pearson | English artist, working in stained glass, printmaking and jewellery | Cis-Male | United Kingdom | Artist             | 1887 | 1915 | NA | 28 |\n",
       "| Q77254864 | Horst Lerche            | German painter                                                      | Cis-Male | Germany        | Artist             | 1938 | 2017 | NA | 79 |\n",
       "\n"
      ],
      "text/plain": [
       "  Id        Name                   \n",
       "1 Q77249818 Diether Todenhagen     \n",
       "2 Q77253909 Reginald Oswald Pearson\n",
       "3 Q77254864 Horst Lerche           \n",
       "  Short.description                                                   Gender  \n",
       "1 German navy officer and world war II U-boat commander               Other   \n",
       "2 English artist, working in stained glass, printmaking and jewellery Cis-Male\n",
       "3 German painter                                                      Cis-Male\n",
       "  Country        Occupation         Birth.year Death.year Manner.of.death\n",
       "1 Germany        Military personnel 1920       1944       NA             \n",
       "2 United Kingdom Artist             1887       1915       NA             \n",
       "3 Germany        Artist             1938       2017       NA             \n",
       "  Age.of.death\n",
       "1 24          \n",
       "2 28          \n",
       "3 79          "
      ]
     },
     "metadata": {},
     "output_type": "display_data"
    }
   ],
   "source": [
    "head(age_df, 3)\n",
    "tail(age_df, 3)"
   ]
  },
  {
   "cell_type": "markdown",
   "id": "9479ce46",
   "metadata": {},
   "source": [
    "To determine appropriate sample size, we first perform some basic computations. As a basic requirement, we want to be able to construct a confidence interval with a maximum width of 5 years; In the worst case, this allows us to approximately capture the number of decades a notable individual lives up to. Using the standard nominal value of $\\alpha = 0.05$, we construct our confidence intervals accordingly.\n",
    "\n",
    "Under standard notation, let $\\delta$ be half the width of the $(1-\\alpha)$ C.I for $\\hat{y}_P$. Then,\n",
    "\n",
    "$$\\delta = z_{a/2}\\sqrt{(1-n_0/N)\\dfrac{s^2_{guess}}{n_0}}$$\n",
    "\n"
   ]
  },
  {
   "cell_type": "markdown",
   "id": "fb77deb8-a62e-4d37-981f-5759e963db7e",
   "metadata": {},
   "source": [
    "Since we have large $N$ for all genders except transgender, we only compute $n_0$ with the FPC for the transgender group. We approximate the FPC to $1$ for the other groups \n",
    "\n",
    "Solving for $n$,\n",
    "\n",
    "$$n_0 = \\dfrac{z_{\\alpha / 2}^2s^2_{guess}}{\\delta^2}$$\n",
    "\n",
    "OR for FPC\n",
    "\n",
    "$$n_0 = \\dfrac{s^2_{guess}}{\\dfrac{\\delta^2}{z_{\\alpha/2}} + \\dfrac{s^2_{guess}}{N}}$$\n",
    "\n",
    "Currently, only have $\\delta = 2.5$. Therefore, we need to compute $s^2_{guess}$. We use the dataset to approximate the population variance"
   ]
  },
  {
   "cell_type": "code",
   "execution_count": 18,
   "id": "8ce790fa",
   "metadata": {
    "vscode": {
     "languageId": "r"
    }
   },
   "outputs": [
    {
     "data": {
      "text/html": [
       "<table class=\"dataframe\">\n",
       "<caption>A tibble: 4 × 3</caption>\n",
       "<thead>\n",
       "\t<tr><th scope=col>Gender</th><th scope=col>variance</th><th scope=col>N_h</th></tr>\n",
       "\t<tr><th scope=col>&lt;chr&gt;</th><th scope=col>&lt;dbl&gt;</th><th scope=col>&lt;int&gt;</th></tr>\n",
       "</thead>\n",
       "<tbody>\n",
       "\t<tr><td>Cis-Female </td><td>349.6675</td><td>107831</td></tr>\n",
       "\t<tr><td>Cis-Male   </td><td>262.4438</td><td>981386</td></tr>\n",
       "\t<tr><td>Other      </td><td>316.3084</td><td>133667</td></tr>\n",
       "\t<tr><td>Transgender</td><td>390.1396</td><td>   125</td></tr>\n",
       "</tbody>\n",
       "</table>\n"
      ],
      "text/latex": [
       "A tibble: 4 × 3\n",
       "\\begin{tabular}{lll}\n",
       " Gender & variance & N\\_h\\\\\n",
       " <chr> & <dbl> & <int>\\\\\n",
       "\\hline\n",
       "\t Cis-Female  & 349.6675 & 107831\\\\\n",
       "\t Cis-Male    & 262.4438 & 981386\\\\\n",
       "\t Other       & 316.3084 & 133667\\\\\n",
       "\t Transgender & 390.1396 &    125\\\\\n",
       "\\end{tabular}\n"
      ],
      "text/markdown": [
       "\n",
       "A tibble: 4 × 3\n",
       "\n",
       "| Gender &lt;chr&gt; | variance &lt;dbl&gt; | N_h &lt;int&gt; |\n",
       "|---|---|---|\n",
       "| Cis-Female  | 349.6675 | 107831 |\n",
       "| Cis-Male    | 262.4438 | 981386 |\n",
       "| Other       | 316.3084 | 133667 |\n",
       "| Transgender | 390.1396 |    125 |\n",
       "\n"
      ],
      "text/plain": [
       "  Gender      variance N_h   \n",
       "1 Cis-Female  349.6675 107831\n",
       "2 Cis-Male    262.4438 981386\n",
       "3 Other       316.3084 133667\n",
       "4 Transgender 390.1396    125"
      ]
     },
     "metadata": {},
     "output_type": "display_data"
    }
   ],
   "source": [
    "values <- age_df %>% \n",
    "    group_by(Gender) %>%\n",
    "    summarize(variance = var(Age.of.death, na.rm=TRUE),\n",
    "              N_h = n())\n",
    "values"
   ]
  },
  {
   "cell_type": "markdown",
   "id": "a63f72ff",
   "metadata": {},
   "source": [
    "We can now find $n_{0h}$ that provides $\\delta = 2.5$ for each strata; and therefore $\\sum^4_{h=1} n_{0h}$ is the minimum total sample size $n_0$. We use FPC as at $n_{0,h} / N_h$ is large for the Transgender strata. "
   ]
  },
  {
   "cell_type": "code",
   "execution_count": 19,
   "id": "2af4b3ae",
   "metadata": {
    "vscode": {
     "languageId": "r"
    }
   },
   "outputs": [
    {
     "data": {
      "text/html": [
       "<table class=\"dataframe\">\n",
       "<caption>A tibble: 4 × 4</caption>\n",
       "<thead>\n",
       "\t<tr><th scope=col>Gender</th><th scope=col>variance</th><th scope=col>N_h</th><th scope=col>n_0h</th></tr>\n",
       "\t<tr><th scope=col>&lt;chr&gt;</th><th scope=col>&lt;dbl&gt;</th><th scope=col>&lt;int&gt;</th><th scope=col>&lt;dbl&gt;</th></tr>\n",
       "</thead>\n",
       "<tbody>\n",
       "\t<tr><td>Cis-Female </td><td>349.6675</td><td>107831</td><td>110</td></tr>\n",
       "\t<tr><td>Cis-Male   </td><td>262.4438</td><td>981386</td><td> 83</td></tr>\n",
       "\t<tr><td>Other      </td><td>316.3084</td><td>133667</td><td>100</td></tr>\n",
       "\t<tr><td>Transgender</td><td>390.1396</td><td>   125</td><td> 62</td></tr>\n",
       "</tbody>\n",
       "</table>\n"
      ],
      "text/latex": [
       "A tibble: 4 × 4\n",
       "\\begin{tabular}{llll}\n",
       " Gender & variance & N\\_h & n\\_0h\\\\\n",
       " <chr> & <dbl> & <int> & <dbl>\\\\\n",
       "\\hline\n",
       "\t Cis-Female  & 349.6675 & 107831 & 110\\\\\n",
       "\t Cis-Male    & 262.4438 & 981386 &  83\\\\\n",
       "\t Other       & 316.3084 & 133667 & 100\\\\\n",
       "\t Transgender & 390.1396 &    125 &  62\\\\\n",
       "\\end{tabular}\n"
      ],
      "text/markdown": [
       "\n",
       "A tibble: 4 × 4\n",
       "\n",
       "| Gender &lt;chr&gt; | variance &lt;dbl&gt; | N_h &lt;int&gt; | n_0h &lt;dbl&gt; |\n",
       "|---|---|---|---|\n",
       "| Cis-Female  | 349.6675 | 107831 | 110 |\n",
       "| Cis-Male    | 262.4438 | 981386 |  83 |\n",
       "| Other       | 316.3084 | 133667 | 100 |\n",
       "| Transgender | 390.1396 |    125 |  62 |\n",
       "\n"
      ],
      "text/plain": [
       "  Gender      variance N_h    n_0h\n",
       "1 Cis-Female  349.6675 107831 110 \n",
       "2 Cis-Male    262.4438 981386  83 \n",
       "3 Other       316.3084 133667 100 \n",
       "4 Transgender 390.1396    125  62 "
      ]
     },
     "metadata": {},
     "output_type": "display_data"
    }
   ],
   "source": [
    "values <- values %>%\n",
    "    mutate(n_0h = ceiling(variance / (2.5^2 / qnorm(0.975) + variance / N_h)))\n",
    "values"
   ]
  },
  {
   "cell_type": "markdown",
   "id": "4a0f7759",
   "metadata": {},
   "source": [
    "Now we find $\\sum_{i=1}^{4} n_{0,i}$ where each $i$ is a different gender"
   ]
  },
  {
   "cell_type": "code",
   "execution_count": 20,
   "id": "89949dd4",
   "metadata": {
    "vscode": {
     "languageId": "r"
    }
   },
   "outputs": [
    {
     "data": {
      "text/html": [
       "355"
      ],
      "text/latex": [
       "355"
      ],
      "text/markdown": [
       "355"
      ],
      "text/plain": [
       "[1] 355"
      ]
     },
     "metadata": {},
     "output_type": "display_data"
    }
   ],
   "source": [
    "sum(values$n_0h)"
   ]
  },
  {
   "cell_type": "markdown",
   "id": "c634a63a",
   "metadata": {},
   "source": [
    "Now we know the minimum sample size for a stratified sample is $355$ total samples. \n",
    "\n",
    "To confirm that this is an appropriate sample size for an SRS, we now compute $n_0$ without stratification. We omit the FPC since $N$ is sufficiently large."
   ]
  },
  {
   "cell_type": "code",
   "execution_count": 21,
   "id": "803f2ada",
   "metadata": {
    "vscode": {
     "languageId": "r"
    }
   },
   "outputs": [
    {
     "data": {
      "text/html": [
       "<table class=\"dataframe\">\n",
       "<caption>A tibble: 1 × 2</caption>\n",
       "<thead>\n",
       "\t<tr><th scope=col>variance</th><th scope=col>n_0</th></tr>\n",
       "\t<tr><th scope=col>&lt;dbl&gt;</th><th scope=col>&lt;dbl&gt;</th></tr>\n",
       "</thead>\n",
       "<tbody>\n",
       "\t<tr><td>276.5363</td><td>170</td></tr>\n",
       "</tbody>\n",
       "</table>\n"
      ],
      "text/latex": [
       "A tibble: 1 × 2\n",
       "\\begin{tabular}{ll}\n",
       " variance & n\\_0\\\\\n",
       " <dbl> & <dbl>\\\\\n",
       "\\hline\n",
       "\t 276.5363 & 170\\\\\n",
       "\\end{tabular}\n"
      ],
      "text/markdown": [
       "\n",
       "A tibble: 1 × 2\n",
       "\n",
       "| variance &lt;dbl&gt; | n_0 &lt;dbl&gt; |\n",
       "|---|---|\n",
       "| 276.5363 | 170 |\n",
       "\n"
      ],
      "text/plain": [
       "  variance n_0\n",
       "1 276.5363 170"
      ]
     },
     "metadata": {},
     "output_type": "display_data"
    }
   ],
   "source": [
    "age_df %>%\n",
    "    summarize(variance = var(Age.of.death, na.rm=TRUE)) %>%\n",
    "    mutate(n_0 = ceiling(qnorm(0.975)^2 * variance / (2.5)^2))"
   ]
  },
  {
   "cell_type": "markdown",
   "id": "d0302713",
   "metadata": {},
   "source": [
    "Since $n_{0} = 170$ for an SRS is smaller than $\\sum_{i=1}^{4} n_{0,i} = 355$, we choose $\\sum_{i=1}^{4} n_{0,i} = 355$ as our sample size"
   ]
  },
  {
   "cell_type": "markdown",
   "id": "760bfb37-1cfe-44c5-896c-4860f109efa6",
   "metadata": {},
   "source": [
    "## Sample Data"
   ]
  },
  {
   "cell_type": "markdown",
   "id": "2fade35e-7119-4fa0-ad19-acc7b3bd3ee9",
   "metadata": {},
   "source": [
    "### Simple Random Sample"
   ]
  },
  {
   "cell_type": "markdown",
   "id": "cf081266-8bba-4c43-ad9f-e98f52b01ecf",
   "metadata": {},
   "source": [
    "First, we will take a simple random sample from our population. We set the seed to \"123\" for reproducibility. We will use the sample size of 355 determined previously."
   ]
  },
  {
   "cell_type": "code",
   "execution_count": 22,
   "id": "9cbce972-9973-46c2-9248-ce5417a1527f",
   "metadata": {
    "vscode": {
     "languageId": "r"
    }
   },
   "outputs": [
    {
     "data": {
      "text/html": [
       "<table class=\"dataframe\">\n",
       "<caption>A tibble: 6 × 10</caption>\n",
       "<thead>\n",
       "\t<tr><th scope=col>Id</th><th scope=col>Name</th><th scope=col>Short.description</th><th scope=col>Gender</th><th scope=col>Country</th><th scope=col>Occupation</th><th scope=col>Birth.year</th><th scope=col>Death.year</th><th scope=col>Manner.of.death</th><th scope=col>Age.of.death</th></tr>\n",
       "\t<tr><th scope=col>&lt;chr&gt;</th><th scope=col>&lt;chr&gt;</th><th scope=col>&lt;chr&gt;</th><th scope=col>&lt;chr&gt;</th><th scope=col>&lt;chr&gt;</th><th scope=col>&lt;chr&gt;</th><th scope=col>&lt;dbl&gt;</th><th scope=col>&lt;dbl&gt;</th><th scope=col>&lt;chr&gt;</th><th scope=col>&lt;dbl&gt;</th></tr>\n",
       "</thead>\n",
       "<tbody>\n",
       "\t<tr><td>Q1145126 </td><td>Franz Joseph Adolph Heinrich Schulze Pellengahr</td><td>German farmer                                                </td><td>Cis-Male</td><td>Germany                                    </td><td>Farmer    </td><td>1796</td><td>1829</td><td>NA</td><td>33</td></tr>\n",
       "\t<tr><td>Q60818395</td><td>Giuseppe Frh. Menghin von Brezburg             </td><td>(1786 - 1860), Jurist                                        </td><td>Cis-Male</td><td>NA                                         </td><td>NA        </td><td>1786</td><td>1860</td><td>NA</td><td>74</td></tr>\n",
       "\t<tr><td>Q11439092</td><td>Ootani Shinsuke                                </td><td>politician                                                   </td><td>Other   </td><td>NA                                         </td><td>Politician</td><td>1844</td><td>1932</td><td>NA</td><td>88</td></tr>\n",
       "\t<tr><td>Q5719213 </td><td>Antti Eskola                                   </td><td>Finnish social psychologist, professor and non-fiction writer</td><td>Cis-Male</td><td>Finland                                    </td><td>Researcher</td><td>1934</td><td>2018</td><td>NA</td><td>84</td></tr>\n",
       "\t<tr><td>Q4719574 </td><td>Alexander McArthur                             </td><td>British politician                                           </td><td>Cis-Male</td><td>United Kingdom of Great Britain and Ireland</td><td>Politician</td><td>1814</td><td>1909</td><td>NA</td><td>95</td></tr>\n",
       "\t<tr><td>Q6915881 </td><td>Moses Mescheloff                               </td><td>American rabbi                                               </td><td>Cis-Male</td><td>NA                                         </td><td>Rabbi     </td><td>1909</td><td>2008</td><td>NA</td><td>99</td></tr>\n",
       "</tbody>\n",
       "</table>\n"
      ],
      "text/latex": [
       "A tibble: 6 × 10\n",
       "\\begin{tabular}{llllllllll}\n",
       " Id & Name & Short.description & Gender & Country & Occupation & Birth.year & Death.year & Manner.of.death & Age.of.death\\\\\n",
       " <chr> & <chr> & <chr> & <chr> & <chr> & <chr> & <dbl> & <dbl> & <chr> & <dbl>\\\\\n",
       "\\hline\n",
       "\t Q1145126  & Franz Joseph Adolph Heinrich Schulze Pellengahr & German farmer                                                 & Cis-Male & Germany                                     & Farmer     & 1796 & 1829 & NA & 33\\\\\n",
       "\t Q60818395 & Giuseppe Frh. Menghin von Brezburg              & (1786 - 1860), Jurist                                         & Cis-Male & NA                                          & NA         & 1786 & 1860 & NA & 74\\\\\n",
       "\t Q11439092 & Ootani Shinsuke                                 & politician                                                    & Other    & NA                                          & Politician & 1844 & 1932 & NA & 88\\\\\n",
       "\t Q5719213  & Antti Eskola                                    & Finnish social psychologist, professor and non-fiction writer & Cis-Male & Finland                                     & Researcher & 1934 & 2018 & NA & 84\\\\\n",
       "\t Q4719574  & Alexander McArthur                              & British politician                                            & Cis-Male & United Kingdom of Great Britain and Ireland & Politician & 1814 & 1909 & NA & 95\\\\\n",
       "\t Q6915881  & Moses Mescheloff                                & American rabbi                                                & Cis-Male & NA                                          & Rabbi      & 1909 & 2008 & NA & 99\\\\\n",
       "\\end{tabular}\n"
      ],
      "text/markdown": [
       "\n",
       "A tibble: 6 × 10\n",
       "\n",
       "| Id &lt;chr&gt; | Name &lt;chr&gt; | Short.description &lt;chr&gt; | Gender &lt;chr&gt; | Country &lt;chr&gt; | Occupation &lt;chr&gt; | Birth.year &lt;dbl&gt; | Death.year &lt;dbl&gt; | Manner.of.death &lt;chr&gt; | Age.of.death &lt;dbl&gt; |\n",
       "|---|---|---|---|---|---|---|---|---|---|\n",
       "| Q1145126  | Franz Joseph Adolph Heinrich Schulze Pellengahr | German farmer                                                 | Cis-Male | Germany                                     | Farmer     | 1796 | 1829 | NA | 33 |\n",
       "| Q60818395 | Giuseppe Frh. Menghin von Brezburg              | (1786 - 1860), Jurist                                         | Cis-Male | NA                                          | NA         | 1786 | 1860 | NA | 74 |\n",
       "| Q11439092 | Ootani Shinsuke                                 | politician                                                    | Other    | NA                                          | Politician | 1844 | 1932 | NA | 88 |\n",
       "| Q5719213  | Antti Eskola                                    | Finnish social psychologist, professor and non-fiction writer | Cis-Male | Finland                                     | Researcher | 1934 | 2018 | NA | 84 |\n",
       "| Q4719574  | Alexander McArthur                              | British politician                                            | Cis-Male | United Kingdom of Great Britain and Ireland | Politician | 1814 | 1909 | NA | 95 |\n",
       "| Q6915881  | Moses Mescheloff                                | American rabbi                                                | Cis-Male | NA                                          | Rabbi      | 1909 | 2008 | NA | 99 |\n",
       "\n"
      ],
      "text/plain": [
       "  Id        Name                                           \n",
       "1 Q1145126  Franz Joseph Adolph Heinrich Schulze Pellengahr\n",
       "2 Q60818395 Giuseppe Frh. Menghin von Brezburg             \n",
       "3 Q11439092 Ootani Shinsuke                                \n",
       "4 Q5719213  Antti Eskola                                   \n",
       "5 Q4719574  Alexander McArthur                             \n",
       "6 Q6915881  Moses Mescheloff                               \n",
       "  Short.description                                             Gender  \n",
       "1 German farmer                                                 Cis-Male\n",
       "2 (1786 - 1860), Jurist                                         Cis-Male\n",
       "3 politician                                                    Other   \n",
       "4 Finnish social psychologist, professor and non-fiction writer Cis-Male\n",
       "5 British politician                                            Cis-Male\n",
       "6 American rabbi                                                Cis-Male\n",
       "  Country                                     Occupation Birth.year Death.year\n",
       "1 Germany                                     Farmer     1796       1829      \n",
       "2 NA                                          NA         1786       1860      \n",
       "3 NA                                          Politician 1844       1932      \n",
       "4 Finland                                     Researcher 1934       2018      \n",
       "5 United Kingdom of Great Britain and Ireland Politician 1814       1909      \n",
       "6 NA                                          Rabbi      1909       2008      \n",
       "  Manner.of.death Age.of.death\n",
       "1 NA              33          \n",
       "2 NA              74          \n",
       "3 NA              88          \n",
       "4 NA              84          \n",
       "5 NA              95          \n",
       "6 NA              99          "
      ]
     },
     "metadata": {},
     "output_type": "display_data"
    }
   ],
   "source": [
    "set.seed(123)\n",
    "age_srs <- age_df[sample(nrow(age_df), 356), ]\n",
    "head(age_srs)"
   ]
  },
  {
   "cell_type": "code",
   "execution_count": 23,
   "id": "6fe4a0ff-3e50-4edb-84de-f653d48e33f9",
   "metadata": {
    "vscode": {
     "languageId": "r"
    }
   },
   "outputs": [
    {
     "data": {
      "text/html": [
       "<style>\n",
       ".list-inline {list-style: none; margin:0; padding: 0}\n",
       ".list-inline>li {display: inline-block}\n",
       ".list-inline>li:not(:last-child)::after {content: \"\\00b7\"; padding: 0 .5ex}\n",
       "</style>\n",
       "<ol class=list-inline><li>356</li><li>10</li></ol>\n"
      ],
      "text/latex": [
       "\\begin{enumerate*}\n",
       "\\item 356\n",
       "\\item 10\n",
       "\\end{enumerate*}\n"
      ],
      "text/markdown": [
       "1. 356\n",
       "2. 10\n",
       "\n",
       "\n"
      ],
      "text/plain": [
       "[1] 356  10"
      ]
     },
     "metadata": {},
     "output_type": "display_data"
    }
   ],
   "source": [
    "dim(age_srs)"
   ]
  },
  {
   "cell_type": "code",
   "execution_count": 24,
   "id": "56e851a7-7158-4493-8440-68c0844a8f7c",
   "metadata": {
    "vscode": {
     "languageId": "r"
    }
   },
   "outputs": [
    {
     "data": {
      "text/html": [
       "<table class=\"dataframe\">\n",
       "<caption>A data.frame: 3 × 2</caption>\n",
       "<thead>\n",
       "\t<tr><th></th><th scope=col>Var1</th><th scope=col>Freq</th></tr>\n",
       "\t<tr><th></th><th scope=col>&lt;fct&gt;</th><th scope=col>&lt;int&gt;</th></tr>\n",
       "</thead>\n",
       "<tbody>\n",
       "\t<tr><th scope=row>2</th><td>Cis-Male  </td><td>269</td></tr>\n",
       "\t<tr><th scope=row>3</th><td>Other     </td><td> 53</td></tr>\n",
       "\t<tr><th scope=row>1</th><td>Cis-Female</td><td> 34</td></tr>\n",
       "</tbody>\n",
       "</table>\n"
      ],
      "text/latex": [
       "A data.frame: 3 × 2\n",
       "\\begin{tabular}{r|ll}\n",
       "  & Var1 & Freq\\\\\n",
       "  & <fct> & <int>\\\\\n",
       "\\hline\n",
       "\t2 & Cis-Male   & 269\\\\\n",
       "\t3 & Other      &  53\\\\\n",
       "\t1 & Cis-Female &  34\\\\\n",
       "\\end{tabular}\n"
      ],
      "text/markdown": [
       "\n",
       "A data.frame: 3 × 2\n",
       "\n",
       "| <!--/--> | Var1 &lt;fct&gt; | Freq &lt;int&gt; |\n",
       "|---|---|---|\n",
       "| 2 | Cis-Male   | 269 |\n",
       "| 3 | Other      |  53 |\n",
       "| 1 | Cis-Female |  34 |\n",
       "\n"
      ],
      "text/plain": [
       "  Var1       Freq\n",
       "2 Cis-Male   269 \n",
       "3 Other       53 \n",
       "1 Cis-Female  34 "
      ]
     },
     "metadata": {},
     "output_type": "display_data"
    }
   ],
   "source": [
    "gender_counts <- data.frame(table(age_srs['Gender']))\n",
    "gender_counts[order(gender_counts$Freq, decreasing = TRUE), ]"
   ]
  },
  {
   "cell_type": "markdown",
   "id": "267f0768-d6fd-4d98-adf5-67b975dc0941",
   "metadata": {},
   "source": [
    "This simple random sample seems to be fairly representative of our population. The majority of our data points are cis-male. It is worth noting that no Transgender people were selected in this sample."
   ]
  },
  {
   "cell_type": "markdown",
   "id": "ff36212a-abf7-44f4-a081-1c855152def0",
   "metadata": {},
   "source": [
    "### Stratified Sample"
   ]
  },
  {
   "cell_type": "markdown",
   "id": "3edfe452-8c9a-49cd-919e-945b1a3c29b5",
   "metadata": {},
   "source": [
    "To take a stratified sample, we split the dataset into the various strata, and then retrieve a sample from each stratum according to the $n_h$ calculated in the above. "
   ]
  },
  {
   "cell_type": "code",
   "execution_count": 25,
   "id": "bd91a627-bb4a-4a2d-8946-2fe0fcd2f0c9",
   "metadata": {
    "vscode": {
     "languageId": "r"
    }
   },
   "outputs": [],
   "source": [
    "set.seed(123)\n",
    "\n",
    "cis_male_df <- age_df %>%\n",
    "  filter(Gender == 'Cis-Male') %>%\n",
    "  sample_n(110)\n",
    "\n",
    "cis_female_df <- age_df %>%\n",
    "  filter(Gender == 'Cis-Female') %>%\n",
    "  sample_n(83)\n",
    "\n",
    "other_df <- age_df %>%\n",
    "  filter(Gender == 'Other') %>%\n",
    "  sample_n(100)\n",
    "\n",
    "transgender_df <- age_df %>%\n",
    "  filter(Gender == 'Transgender') %>%\n",
    "  sample_n(62)\n",
    "\n",
    "age_strat <- rbind(cis_male_df, cis_female_df, other_df, transgender_df)\n",
    "age_strat <- age_strat[sample(nrow(age_strat)),] # shuffle to remove ordering"
   ]
  },
  {
   "cell_type": "code",
   "execution_count": 26,
   "id": "fdf2c188-cd24-4a6f-af0e-2fe68a555e4d",
   "metadata": {
    "vscode": {
     "languageId": "r"
    }
   },
   "outputs": [
    {
     "data": {
      "text/html": [
       "<table class=\"dataframe\">\n",
       "<caption>A tibble: 6 × 10</caption>\n",
       "<thead>\n",
       "\t<tr><th scope=col>Id</th><th scope=col>Name</th><th scope=col>Short.description</th><th scope=col>Gender</th><th scope=col>Country</th><th scope=col>Occupation</th><th scope=col>Birth.year</th><th scope=col>Death.year</th><th scope=col>Manner.of.death</th><th scope=col>Age.of.death</th></tr>\n",
       "\t<tr><th scope=col>&lt;chr&gt;</th><th scope=col>&lt;chr&gt;</th><th scope=col>&lt;chr&gt;</th><th scope=col>&lt;chr&gt;</th><th scope=col>&lt;chr&gt;</th><th scope=col>&lt;chr&gt;</th><th scope=col>&lt;dbl&gt;</th><th scope=col>&lt;dbl&gt;</th><th scope=col>&lt;chr&gt;</th><th scope=col>&lt;dbl&gt;</th></tr>\n",
       "</thead>\n",
       "<tbody>\n",
       "\t<tr><td>Q15066967</td><td>Aleksandr Zvyagin     </td><td>Hero of the Soviet Union                      </td><td>Other      </td><td>Soviet Union                                               </td><td>NA        </td><td>1922</td><td>1991</td><td>NA                </td><td>69</td></tr>\n",
       "\t<tr><td>Q26266243</td><td>Dora de Louw          </td><td>Dutch singer                                  </td><td>Cis-Female </td><td>Kingdom of the Netherlands                                 </td><td>Artist    </td><td>1876</td><td>1959</td><td>NA                </td><td>83</td></tr>\n",
       "\t<tr><td>Q17413230</td><td>Cesáreo Briones Varela</td><td>Spanish politician                            </td><td>Other      </td><td>Spain                                                      </td><td>Politician</td><td>1904</td><td>1968</td><td>NA                </td><td>64</td></tr>\n",
       "\t<tr><td>Q16000225</td><td>Michael Dillon        </td><td>British physician                             </td><td>Transgender</td><td>United Kingdom; United Kingdom of Great Britain and Ireland</td><td>Physician </td><td>1915</td><td>1962</td><td>NA                </td><td>47</td></tr>\n",
       "\t<tr><td>Q20979246</td><td>Elisabeth Martini     </td><td>American architect                            </td><td>Cis-Female </td><td>United States of America                                   </td><td>Architect </td><td>1886</td><td>1984</td><td>NA                </td><td>98</td></tr>\n",
       "\t<tr><td>Q20747092</td><td>Agnes Torres          </td><td>Mexican psychologist, researcher, and activist</td><td>Transgender</td><td>Mexico                                                     </td><td>Researcher</td><td>1983</td><td>2012</td><td>homicide; homicide</td><td>29</td></tr>\n",
       "</tbody>\n",
       "</table>\n"
      ],
      "text/latex": [
       "A tibble: 6 × 10\n",
       "\\begin{tabular}{llllllllll}\n",
       " Id & Name & Short.description & Gender & Country & Occupation & Birth.year & Death.year & Manner.of.death & Age.of.death\\\\\n",
       " <chr> & <chr> & <chr> & <chr> & <chr> & <chr> & <dbl> & <dbl> & <chr> & <dbl>\\\\\n",
       "\\hline\n",
       "\t Q15066967 & Aleksandr Zvyagin      & Hero of the Soviet Union                       & Other       & Soviet Union                                                & NA         & 1922 & 1991 & NA                 & 69\\\\\n",
       "\t Q26266243 & Dora de Louw           & Dutch singer                                   & Cis-Female  & Kingdom of the Netherlands                                  & Artist     & 1876 & 1959 & NA                 & 83\\\\\n",
       "\t Q17413230 & Cesáreo Briones Varela & Spanish politician                             & Other       & Spain                                                       & Politician & 1904 & 1968 & NA                 & 64\\\\\n",
       "\t Q16000225 & Michael Dillon         & British physician                              & Transgender & United Kingdom; United Kingdom of Great Britain and Ireland & Physician  & 1915 & 1962 & NA                 & 47\\\\\n",
       "\t Q20979246 & Elisabeth Martini      & American architect                             & Cis-Female  & United States of America                                    & Architect  & 1886 & 1984 & NA                 & 98\\\\\n",
       "\t Q20747092 & Agnes Torres           & Mexican psychologist, researcher, and activist & Transgender & Mexico                                                      & Researcher & 1983 & 2012 & homicide; homicide & 29\\\\\n",
       "\\end{tabular}\n"
      ],
      "text/markdown": [
       "\n",
       "A tibble: 6 × 10\n",
       "\n",
       "| Id &lt;chr&gt; | Name &lt;chr&gt; | Short.description &lt;chr&gt; | Gender &lt;chr&gt; | Country &lt;chr&gt; | Occupation &lt;chr&gt; | Birth.year &lt;dbl&gt; | Death.year &lt;dbl&gt; | Manner.of.death &lt;chr&gt; | Age.of.death &lt;dbl&gt; |\n",
       "|---|---|---|---|---|---|---|---|---|---|\n",
       "| Q15066967 | Aleksandr Zvyagin      | Hero of the Soviet Union                       | Other       | Soviet Union                                                | NA         | 1922 | 1991 | NA                 | 69 |\n",
       "| Q26266243 | Dora de Louw           | Dutch singer                                   | Cis-Female  | Kingdom of the Netherlands                                  | Artist     | 1876 | 1959 | NA                 | 83 |\n",
       "| Q17413230 | Cesáreo Briones Varela | Spanish politician                             | Other       | Spain                                                       | Politician | 1904 | 1968 | NA                 | 64 |\n",
       "| Q16000225 | Michael Dillon         | British physician                              | Transgender | United Kingdom; United Kingdom of Great Britain and Ireland | Physician  | 1915 | 1962 | NA                 | 47 |\n",
       "| Q20979246 | Elisabeth Martini      | American architect                             | Cis-Female  | United States of America                                    | Architect  | 1886 | 1984 | NA                 | 98 |\n",
       "| Q20747092 | Agnes Torres           | Mexican psychologist, researcher, and activist | Transgender | Mexico                                                      | Researcher | 1983 | 2012 | homicide; homicide | 29 |\n",
       "\n"
      ],
      "text/plain": [
       "  Id        Name                  \n",
       "1 Q15066967 Aleksandr Zvyagin     \n",
       "2 Q26266243 Dora de Louw          \n",
       "3 Q17413230 Cesáreo Briones Varela\n",
       "4 Q16000225 Michael Dillon        \n",
       "5 Q20979246 Elisabeth Martini     \n",
       "6 Q20747092 Agnes Torres          \n",
       "  Short.description                              Gender     \n",
       "1 Hero of the Soviet Union                       Other      \n",
       "2 Dutch singer                                   Cis-Female \n",
       "3 Spanish politician                             Other      \n",
       "4 British physician                              Transgender\n",
       "5 American architect                             Cis-Female \n",
       "6 Mexican psychologist, researcher, and activist Transgender\n",
       "  Country                                                     Occupation\n",
       "1 Soviet Union                                                NA        \n",
       "2 Kingdom of the Netherlands                                  Artist    \n",
       "3 Spain                                                       Politician\n",
       "4 United Kingdom; United Kingdom of Great Britain and Ireland Physician \n",
       "5 United States of America                                    Architect \n",
       "6 Mexico                                                      Researcher\n",
       "  Birth.year Death.year Manner.of.death    Age.of.death\n",
       "1 1922       1991       NA                 69          \n",
       "2 1876       1959       NA                 83          \n",
       "3 1904       1968       NA                 64          \n",
       "4 1915       1962       NA                 47          \n",
       "5 1886       1984       NA                 98          \n",
       "6 1983       2012       homicide; homicide 29          "
      ]
     },
     "metadata": {},
     "output_type": "display_data"
    }
   ],
   "source": [
    "head(age_strat)"
   ]
  },
  {
   "cell_type": "code",
   "execution_count": 27,
   "id": "0ba08ad3-eaff-4646-836a-955641b487b2",
   "metadata": {
    "vscode": {
     "languageId": "r"
    }
   },
   "outputs": [
    {
     "data": {
      "text/html": [
       "<table class=\"dataframe\">\n",
       "<caption>A data.frame: 4 × 2</caption>\n",
       "<thead>\n",
       "\t<tr><th></th><th scope=col>Var1</th><th scope=col>Freq</th></tr>\n",
       "\t<tr><th></th><th scope=col>&lt;fct&gt;</th><th scope=col>&lt;int&gt;</th></tr>\n",
       "</thead>\n",
       "<tbody>\n",
       "\t<tr><th scope=row>2</th><td>Cis-Male   </td><td>110</td></tr>\n",
       "\t<tr><th scope=row>3</th><td>Other      </td><td>100</td></tr>\n",
       "\t<tr><th scope=row>1</th><td>Cis-Female </td><td> 83</td></tr>\n",
       "\t<tr><th scope=row>4</th><td>Transgender</td><td> 62</td></tr>\n",
       "</tbody>\n",
       "</table>\n"
      ],
      "text/latex": [
       "A data.frame: 4 × 2\n",
       "\\begin{tabular}{r|ll}\n",
       "  & Var1 & Freq\\\\\n",
       "  & <fct> & <int>\\\\\n",
       "\\hline\n",
       "\t2 & Cis-Male    & 110\\\\\n",
       "\t3 & Other       & 100\\\\\n",
       "\t1 & Cis-Female  &  83\\\\\n",
       "\t4 & Transgender &  62\\\\\n",
       "\\end{tabular}\n"
      ],
      "text/markdown": [
       "\n",
       "A data.frame: 4 × 2\n",
       "\n",
       "| <!--/--> | Var1 &lt;fct&gt; | Freq &lt;int&gt; |\n",
       "|---|---|---|\n",
       "| 2 | Cis-Male    | 110 |\n",
       "| 3 | Other       | 100 |\n",
       "| 1 | Cis-Female  |  83 |\n",
       "| 4 | Transgender |  62 |\n",
       "\n"
      ],
      "text/plain": [
       "  Var1        Freq\n",
       "2 Cis-Male    110 \n",
       "3 Other       100 \n",
       "1 Cis-Female   83 \n",
       "4 Transgender  62 "
      ]
     },
     "metadata": {},
     "output_type": "display_data"
    }
   ],
   "source": [
    "gender_counts <- data.frame(table(age_strat['Gender']))\n",
    "gender_counts[order(gender_counts$Freq, decreasing = TRUE), ]"
   ]
  },
  {
   "cell_type": "markdown",
   "id": "436662fa-8230-4299-a0ca-1954272ecf31",
   "metadata": {},
   "source": [
    "Now we have a stratified number of samples for each Gender in our population that should result in a confidence interval of width $\\delta = 2.5$."
   ]
  },
  {
   "cell_type": "markdown",
   "id": "4ff55cfe-647e-40c4-9cef-ac6b17f7d2d8",
   "metadata": {},
   "source": [
    "## Data Analysis"
   ]
  },
  {
   "cell_type": "markdown",
   "id": "d0dfaf04-28aa-4ec9-a7fb-2c29d636d47e",
   "metadata": {},
   "source": [
    "### Proportion with our Simple Random Sample"
   ]
  },
  {
   "cell_type": "markdown",
   "id": "3c5589c5-1dc0-444f-98ff-cbe908643d30",
   "metadata": {},
   "source": [
    "We want to examine the proportion of celebrities dying over the age of 72.6. The age of 72.6 was chosen because it is the world average life expectancy [source.](https://ourworldindata.org/life-expectancy) "
   ]
  },
  {
   "cell_type": "markdown",
   "id": "bdae0018-96d9-4425-8b9c-0875b2390f23",
   "metadata": {},
   "source": [
    "First, to visualize the sample, we plot a histogram distribution of the age of death."
   ]
  },
  {
   "cell_type": "code",
   "execution_count": 28,
   "id": "009f82a2-7655-4617-9f78-cfb412adc2ce",
   "metadata": {
    "vscode": {
     "languageId": "r"
    }
   },
   "outputs": [
    {
     "data": {
      "image/png": "[encoded data removed]",
      "text/plain": [
       "plot without title"
      ]
     },
     "metadata": {
      "image/png": {
       "height": 420,
       "width": 600
      }
     },
     "output_type": "display_data"
    }
   ],
   "source": [
    "options(repr.plot.width=10, repr.plot.height=7)\n",
    "\n",
    "plot_prop_srs <- ggplot(age_srs, aes(x = Age.of.death)) + \n",
    "    geom_histogram(binwidth = 2, position = \"identity\", colour = \"#FFFFFF\", fill = \"#0072B2\", alpha = 0.5) + \n",
    "    geom_histogram(data=subset(age_srs,age_srs$Age.of.death>72.6),binwidth=2, colour = \"#FFFFFF\", fill = \"#D55E00\", alpha = 0.9) + \n",
    "    xlab(\"Age of Death\") + \n",
    "    ggtitle(\"Distribution of Age of Death for Celebrities\") +\n",
    "    theme(axis.title = element_text(size = 20)) +\n",
    "    theme(plot.title = element_text(size = 24))\n",
    "plot_prop_srs"
   ]
  },
  {
   "cell_type": "markdown",
   "id": "1ef053a2-9a82-479d-ac94-c4c75a70e1cd",
   "metadata": {},
   "source": [
    "Above is a histogram of the ages of death in our sample. The section of the histogram that is orange contains the observations where age of death is over 72.6. Visually it looks like about 50% of the observations have age of death over 72.6."
   ]
  },
  {
   "cell_type": "markdown",
   "id": "a4724422-d3d9-40e9-bd24-4762ce414563",
   "metadata": {},
   "source": [
    "Now, let's examine the proportion mathematically."
   ]
  },
  {
   "cell_type": "markdown",
   "id": "7a6675d9-9e9e-40e0-a753-18c01412d281",
   "metadata": {},
   "source": [
    "First we need to verify if we should use the finite population correction factor to make sure the Central Limit Theorem holds. In order to do this, we check if the ratio of sample size to population size is small enough."
   ]
  },
  {
   "cell_type": "code",
   "execution_count": 29,
   "id": "5c9ff794-7896-4a7f-a1a2-3723165f1427",
   "metadata": {
    "vscode": {
     "languageId": "r"
    }
   },
   "outputs": [
    {
     "data": {
      "text/html": [
       "0.000291085347695724"
      ],
      "text/latex": [
       "0.000291085347695724"
      ],
      "text/markdown": [
       "0.000291085347695724"
      ],
      "text/plain": [
       "[1] 0.0002910853"
      ]
     },
     "metadata": {},
     "output_type": "display_data"
    }
   ],
   "source": [
    "nrow(age_srs)/pop_n"
   ]
  },
  {
   "cell_type": "markdown",
   "id": "4a6c360c-69fb-4c35-ab2f-c86f309edc76",
   "metadata": {},
   "source": [
    "0.0003 is sufficiently small that we do not need to use the population correction factor. However, it since we know N we can include it to get slighly more accurate results."
   ]
  },
  {
   "cell_type": "markdown",
   "id": "b562b2a5-c4a9-4f1c-836a-64c7ed883451",
   "metadata": {},
   "source": [
    "The formulas we need to use to calculate a proportion estimate and the confidence interval for proportion are the following:\n",
    "\n",
    "$${\\hat{p} = n_{d}/{n}}$$\n",
    "\n",
    "$${\\text{CI} = \\hat{p}} \\pm 1.96 \\times {\\sqrt{(1-n/N)\\frac{\\hat{p} \\times (1-\\hat{p})}{n}}}$$\n",
    "\n",
    "\n",
    "<br>\n",
    "\n",
    "\n",
    "| Variable | Definition |\n",
    "| - | :- | \n",
    "| $\\hat{p}$ | the sample proportion of celebrities that died over the age of 72.6\n",
    "| $n$ | the number of subjects in our sample\n",
    "| $n_{d}$ | the number of subjects in our sample that died over the age of 72.6\n",
    "| $N$ | the number of subjects in our population"
   ]
  },
  {
   "cell_type": "markdown",
   "id": "b0f420c8-90eb-45f4-8d77-52327939dcac",
   "metadata": {},
   "source": [
    "In order for the above formulas to hold, we need to check that $np > 10$ and $n(p-1) > 10$. Based on our previous visualization, we can take 0.5 as an approximate proportion value."
   ]
  },
  {
   "cell_type": "code",
   "execution_count": 30,
   "id": "0e6775bb-5ddf-4e13-af59-5ecc6017964f",
   "metadata": {
    "vscode": {
     "languageId": "r"
    }
   },
   "outputs": [
    {
     "data": {
      "text/html": [
       "178"
      ],
      "text/latex": [
       "178"
      ],
      "text/markdown": [
       "178"
      ],
      "text/plain": [
       "[1] 178"
      ]
     },
     "metadata": {},
     "output_type": "display_data"
    }
   ],
   "source": [
    "nrow(age_srs)*0.5"
   ]
  },
  {
   "cell_type": "markdown",
   "id": "666c2e9f-5ccc-4022-a3f2-820d27585118",
   "metadata": {},
   "source": [
    "178 is well above 10 so we can continue with using the proportion confidence interval formulas above."
   ]
  },
  {
   "cell_type": "markdown",
   "id": "3d924e0b-58e7-4b8c-b354-ace05e6d50ea",
   "metadata": {},
   "source": [
    "In order to account for the worst case scenario for standard error, we will replace the $\\hat{p}$ values in the standard error with the value 0.5."
   ]
  },
  {
   "cell_type": "code",
   "execution_count": 31,
   "id": "b5e76331-0c25-44ce-a7be-8763338112e1",
   "metadata": {
    "vscode": {
     "languageId": "r"
    }
   },
   "outputs": [],
   "source": [
    "proportion_estimate <- age_srs %>%\n",
    "mutate(over = Age.of.death > 72.6) %>%\n",
    "summarize(prop = mean(over),\n",
    "          n = n(),\n",
    "          se = sqrt((1-n/pop_n)*0.5*0.5/n),\n",
    "         lower = prop - 1.96 * se,\n",
    "         upper = prop + 1.96 * se)"
   ]
  },
  {
   "cell_type": "code",
   "execution_count": 32,
   "id": "e3d34b9f-f86a-40cf-9057-9fef710efad5",
   "metadata": {
    "vscode": {
     "languageId": "r"
    }
   },
   "outputs": [
    {
     "data": {
      "text/html": [
       "<table class=\"dataframe\">\n",
       "<caption>A tibble: 1 × 5</caption>\n",
       "<thead>\n",
       "\t<tr><th scope=col>prop</th><th scope=col>n</th><th scope=col>se</th><th scope=col>lower</th><th scope=col>upper</th></tr>\n",
       "\t<tr><th scope=col>&lt;dbl&gt;</th><th scope=col>&lt;int&gt;</th><th scope=col>&lt;dbl&gt;</th><th scope=col>&lt;dbl&gt;</th><th scope=col>&lt;dbl&gt;</th></tr>\n",
       "</thead>\n",
       "<tbody>\n",
       "\t<tr><td>0.497191</td><td>356</td><td>0.02649609</td><td>0.4452587</td><td>0.5491233</td></tr>\n",
       "</tbody>\n",
       "</table>\n"
      ],
      "text/latex": [
       "A tibble: 1 × 5\n",
       "\\begin{tabular}{lllll}\n",
       " prop & n & se & lower & upper\\\\\n",
       " <dbl> & <int> & <dbl> & <dbl> & <dbl>\\\\\n",
       "\\hline\n",
       "\t 0.497191 & 356 & 0.02649609 & 0.4452587 & 0.5491233\\\\\n",
       "\\end{tabular}\n"
      ],
      "text/markdown": [
       "\n",
       "A tibble: 1 × 5\n",
       "\n",
       "| prop &lt;dbl&gt; | n &lt;int&gt; | se &lt;dbl&gt; | lower &lt;dbl&gt; | upper &lt;dbl&gt; |\n",
       "|---|---|---|---|---|\n",
       "| 0.497191 | 356 | 0.02649609 | 0.4452587 | 0.5491233 |\n",
       "\n"
      ],
      "text/plain": [
       "  prop     n   se         lower     upper    \n",
       "1 0.497191 356 0.02649609 0.4452587 0.5491233"
      ]
     },
     "metadata": {},
     "output_type": "display_data"
    }
   ],
   "source": [
    "proportion_estimate"
   ]
  },
  {
   "cell_type": "markdown",
   "id": "f4a9527b-52a6-4e7a-8e84-6f9e30fafab2",
   "metadata": {},
   "source": [
    "Our estimate for the proportion of celebrities that die over the age of 72.6, is 0.497. This is an unbiased estimate as $E[\\hat{p}] = p$"
   ]
  },
  {
   "cell_type": "markdown",
   "id": "59f663f2-e62a-43d8-99e1-790c3af8497d",
   "metadata": {},
   "source": [
    "Our standard error is around 2.6 percentage points. This indicates by how much our sample proportion is likely to deviate from the population proportion."
   ]
  },
  {
   "cell_type": "markdown",
   "id": "72f92f1f-521a-4fcd-97d7-17fefa18617f",
   "metadata": {},
   "source": [
    "Our confidence interval for proportion p has a lower bound of 0.445 and an upper bound of 0.549. We can interpret this as: if we take many samples of size n from the same celebrity population and construct a confidence interval for proportion based on each sample using the same formula, about 95% of all these confidence intervals will include the true value p."
   ]
  },
  {
   "cell_type": "markdown",
   "id": "9f6439db-c5b8-4f66-9277-d44da48b3614",
   "metadata": {},
   "source": [
    "As stated previously, the world average life expectancy is around 72.6. Our confidence interval for the proportion of celebrities that die over the age of 72.6 includes 0.5. This indicates that perhaps celebrity median life expectancy does not deviate too much from the 72.6 world life expectancy estimate."
   ]
  },
  {
   "cell_type": "markdown",
   "id": "3a84c83d-b401-44b5-88ee-6bee3121c9ba",
   "metadata": {},
   "source": [
    "In order to make our conclusions, we have been working under the assumption that the sample data drawn from the population of celebrities is unbiased, representative, independent and identically distributed. Using a simple random sample helps us be confident in this assumption. "
   ]
  },
  {
   "cell_type": "markdown",
   "id": "e4f8d865-974f-4066-96cd-a60fb95f9b67",
   "metadata": {},
   "source": [
    "### Proportion with our Stratified Sample"
   ]
  },
  {
   "cell_type": "markdown",
   "id": "6ed3f78b-bb50-4d64-ab14-81adad607484",
   "metadata": {},
   "source": [
    "Now, lets examine the proportion of celebrities dying over the age of 72.6 for our stratified sample."
   ]
  },
  {
   "cell_type": "markdown",
   "id": "2774a353-9dad-4256-a4bc-08fe39b5b45a",
   "metadata": {},
   "source": [
    "Let's visualize with our stratified sample"
   ]
  },
  {
   "cell_type": "code",
   "execution_count": 33,
   "id": "736ce0ee",
   "metadata": {
    "vscode": {
     "languageId": "r"
    }
   },
   "outputs": [
    {
     "name": "stderr",
     "output_type": "stream",
     "text": [
      "Warning message:\n",
      "“Ignoring unknown parameters: linewidth”\n"
     ]
    },
    {
     "data": {
      "image/png": "[encoded data removed]",
      "text/plain": [
       "plot without title"
      ]
     },
     "metadata": {
      "image/png": {
       "height": 420,
       "width": 600
      }
     },
     "output_type": "display_data"
    }
   ],
   "source": [
    "plot_prop_strat <- ggplot(age_strat, aes(x = Age.of.death, fill = Gender)) + \n",
    "    geom_density(stat = \"density\", colour = \"#FFFFFF\", alpha = 0.4) +\n",
    "    geom_vline(aes(xintercept = 72.6), linewidth = 1, colour = \"#000000\") +\n",
    "    xlab(\"Age of Death\") + \n",
    "    ggtitle(\"Distribution of Age of Death for Celebrities\") +\n",
    "    scale_fill_manual(\n",
    "        values = c(\"#D55E0050\", \"#56B4E950\", \"#E69F0050\", \"#009E7350\"),\n",
    "        breaks = c(\"Cis-Female\", \"Cis-Male\", \"Other\", \"Transgender\")\n",
    "    ) +\n",
    "    theme(axis.title = element_text(size = 20)) +\n",
    "    theme(plot.title = element_text(size = 24)) +\n",
    "    theme(\n",
    "        legend.title = element_text(size=20), #change legend title font size\n",
    "        legend.text = element_text(size=15))\n",
    "plot_prop_strat"
   ]
  },
  {
   "cell_type": "markdown",
   "id": "b9ff6b77-791b-4ab9-9866-a9f0c0e3bc9a",
   "metadata": {},
   "source": [
    "Above is a density plot of the ages of death in our sample. The section of the density plot to the right of the black line contains the observations where age of death is over 72.6. This density plot is split by Gender, the variable we used for stratification. Visually it looks like most Transgender people in our sample died before the age of 72.6. Let's say that we don't use weighted averages. Since our stratified sample contains a higher percentage of Transgender people, it is likely that the sample proportion of people who died over the age of 72.6 would be lower than it was for our simple random sample."
   ]
  },
  {
   "cell_type": "markdown",
   "id": "61b88db6-a902-4766-937b-7dbaf661caef",
   "metadata": {},
   "source": [
    "Below is the formula for getting our proportion estimate, standard error, and confidence interval now that we have a stratified sample."
   ]
  },
  {
   "cell_type": "markdown",
   "id": "27141cd2-4cf3-4be0-9583-a92df7e36b50",
   "metadata": {},
   "source": [
    "\n",
    "$$S_{p} = {\\sum\\limits_{h}{\\frac{N_{h}}{N}} * p_{h}}$$\n",
    "\n",
    "$$SE = {\\sqrt{\\sum\\limits_{h}(1-{\\frac{n_{h}}{N_{h}}})(\\frac{N_{h}}{N})^2(\\frac{S_{h}^2}{n_{h}})}}$$\n",
    "\n",
    "$$CI = S_{p} \\pm 1.96 \\times SE$$\n",
    "\n",
    "<br>\n",
    "\n",
    "\n",
    "| Variable | Definition |\n",
    "| - | :- | \n",
    "| $S_{p}$ | sample proportion estimate\n",
    "| $p_{h}$ | sample proportion estimate in stratum h\n",
    "| $S_{h}^2$ | sample variance for the sampled units that belong to stratum h\n",
    "| $N$ | total population size\n",
    "| $N_{h}$ | number of units (in the population) that belong to stratum h\n",
    "| $n_{h}$ | number of units sampled that belong to stratum h\n",
    "| $S_{h}^2$ | sample variance for the sampled units that belong to stratum h\n",
    "| $SE$ | standard error for our proportion estimate\n",
    "| $CI$ | confidence interval for our proportion estimate\n",
    "\n",
    "\n",
    "."
   ]
  },
  {
   "cell_type": "markdown",
   "id": "f3237ac3-352b-4518-b107-d9c8de4dc4b7",
   "metadata": {},
   "source": [
    "Below we will carry out these calculations. For calculating the proportion and standard error for each stratum, we will use similar techniques to those we used for the simple random sample."
   ]
  },
  {
   "cell_type": "code",
   "execution_count": 34,
   "id": "b86fac91-0576-4ea4-9d5e-e028de1e650e",
   "metadata": {
    "vscode": {
     "languageId": "r"
    }
   },
   "outputs": [
    {
     "data": {
      "text/html": [
       "<table class=\"dataframe\">\n",
       "<caption>A tibble: 4 × 5</caption>\n",
       "<thead>\n",
       "\t<tr><th scope=col>Gender</th><th scope=col>prop</th><th scope=col>n</th><th scope=col>var</th><th scope=col>se</th></tr>\n",
       "\t<tr><th scope=col>&lt;chr&gt;</th><th scope=col>&lt;dbl&gt;</th><th scope=col>&lt;int&gt;</th><th scope=col>&lt;dbl&gt;</th><th scope=col>&lt;dbl&gt;</th></tr>\n",
       "</thead>\n",
       "<tbody>\n",
       "\t<tr><td>Cis-Female </td><td>0.6024096</td><td> 83</td><td>0.25</td><td>0.05488213</td></tr>\n",
       "\t<tr><td>Cis-Male   </td><td>0.4727273</td><td>110</td><td>0.25</td><td>0.04767313</td></tr>\n",
       "\t<tr><td>Other      </td><td>0.5200000</td><td>100</td><td>0.25</td><td>0.05000000</td></tr>\n",
       "\t<tr><td>Transgender</td><td>0.1451613</td><td> 62</td><td>0.25</td><td>0.06350006</td></tr>\n",
       "</tbody>\n",
       "</table>\n"
      ],
      "text/latex": [
       "A tibble: 4 × 5\n",
       "\\begin{tabular}{lllll}\n",
       " Gender & prop & n & var & se\\\\\n",
       " <chr> & <dbl> & <int> & <dbl> & <dbl>\\\\\n",
       "\\hline\n",
       "\t Cis-Female  & 0.6024096 &  83 & 0.25 & 0.05488213\\\\\n",
       "\t Cis-Male    & 0.4727273 & 110 & 0.25 & 0.04767313\\\\\n",
       "\t Other       & 0.5200000 & 100 & 0.25 & 0.05000000\\\\\n",
       "\t Transgender & 0.1451613 &  62 & 0.25 & 0.06350006\\\\\n",
       "\\end{tabular}\n"
      ],
      "text/markdown": [
       "\n",
       "A tibble: 4 × 5\n",
       "\n",
       "| Gender &lt;chr&gt; | prop &lt;dbl&gt; | n &lt;int&gt; | var &lt;dbl&gt; | se &lt;dbl&gt; |\n",
       "|---|---|---|---|---|\n",
       "| Cis-Female  | 0.6024096 |  83 | 0.25 | 0.05488213 |\n",
       "| Cis-Male    | 0.4727273 | 110 | 0.25 | 0.04767313 |\n",
       "| Other       | 0.5200000 | 100 | 0.25 | 0.05000000 |\n",
       "| Transgender | 0.1451613 |  62 | 0.25 | 0.06350006 |\n",
       "\n"
      ],
      "text/plain": [
       "  Gender      prop      n   var  se        \n",
       "1 Cis-Female  0.6024096  83 0.25 0.05488213\n",
       "2 Cis-Male    0.4727273 110 0.25 0.04767313\n",
       "3 Other       0.5200000 100 0.25 0.05000000\n",
       "4 Transgender 0.1451613  62 0.25 0.06350006"
      ]
     },
     "metadata": {},
     "output_type": "display_data"
    }
   ],
   "source": [
    "## Strata proportion estimates\n",
    "\n",
    "strat_proportion_estimate <- age_strat %>%\n",
    "group_by(Gender) %>%\n",
    "mutate(over = Age.of.death > 72.6) %>%\n",
    "summarize(prop = mean(over),\n",
    "          n = n(),\n",
    "          var = 0.5*0.5,\n",
    "          se = sqrt(var/n))\n",
    "\n",
    "strat_proportion_estimate"
   ]
  },
  {
   "cell_type": "markdown",
   "id": "78553989-b6ab-4509-bebb-87c9f027e46c",
   "metadata": {},
   "source": [
    "Since we are using the \"worst case\" value of 0.5 for calculating the standard error for each stratum, and each stratum has the same size, it makes sense that the variance for proportion for each stratum is the same. There is, however, a clear difference in the proportion estimates between each strata. The sample proportion of Transgender people dying over the age of 72.6 (0.213) seems to be much lower than the sample proportion of Cis-Females, Cis-Males, and Other dying over the age of 72.6 (0.629, 0.416, 0.551). This indicates that Transgender people may have a lower mean age of death compared to Cis-Males and Cis-Females. Due to stratified sampling, we get an estimate of reasonable precision for the Transgender proportion."
   ]
  },
  {
   "cell_type": "code",
   "execution_count": 35,
   "id": "e696a298-b50b-48c5-ac2b-5bbeb001f9a6",
   "metadata": {
    "vscode": {
     "languageId": "r"
    }
   },
   "outputs": [
    {
     "data": {
      "text/html": [
       "<table class=\"dataframe\">\n",
       "<caption>A tibble: 4 × 2</caption>\n",
       "<thead>\n",
       "\t<tr><th scope=col>Gender</th><th scope=col>strata_counts</th></tr>\n",
       "\t<tr><th scope=col>&lt;chr&gt;</th><th scope=col>&lt;int&gt;</th></tr>\n",
       "</thead>\n",
       "<tbody>\n",
       "\t<tr><td>Cis-Female </td><td>107831</td></tr>\n",
       "\t<tr><td>Cis-Male   </td><td>981386</td></tr>\n",
       "\t<tr><td>Other      </td><td>133667</td></tr>\n",
       "\t<tr><td>Transgender</td><td>   125</td></tr>\n",
       "</tbody>\n",
       "</table>\n"
      ],
      "text/latex": [
       "A tibble: 4 × 2\n",
       "\\begin{tabular}{ll}\n",
       " Gender & strata\\_counts\\\\\n",
       " <chr> & <int>\\\\\n",
       "\\hline\n",
       "\t Cis-Female  & 107831\\\\\n",
       "\t Cis-Male    & 981386\\\\\n",
       "\t Other       & 133667\\\\\n",
       "\t Transgender &    125\\\\\n",
       "\\end{tabular}\n"
      ],
      "text/markdown": [
       "\n",
       "A tibble: 4 × 2\n",
       "\n",
       "| Gender &lt;chr&gt; | strata_counts &lt;int&gt; |\n",
       "|---|---|\n",
       "| Cis-Female  | 107831 |\n",
       "| Cis-Male    | 981386 |\n",
       "| Other       | 133667 |\n",
       "| Transgender |    125 |\n",
       "\n"
      ],
      "text/plain": [
       "  Gender      strata_counts\n",
       "1 Cis-Female  107831       \n",
       "2 Cis-Male    981386       \n",
       "3 Other       133667       \n",
       "4 Transgender    125       "
      ]
     },
     "metadata": {},
     "output_type": "display_data"
    }
   ],
   "source": [
    "## Sample proportion estimate\n",
    "\n",
    "# Record total population size\n",
    "N <- nrow(age_df)\n",
    "\n",
    "# Record number of units that belong to each strata in the population\n",
    "N_strata <- age_df %>%\n",
    "group_by(Gender) %>%\n",
    "summarize(strata_counts = n())\n",
    "\n",
    "N_strata"
   ]
  },
  {
   "cell_type": "code",
   "execution_count": 36,
   "id": "bb3b9a7a-ad1a-4f25-8d9e-560d64d5a152",
   "metadata": {
    "vscode": {
     "languageId": "r"
    }
   },
   "outputs": [
    {
     "data": {
      "text/html": [
       "0.489294311136678"
      ],
      "text/latex": [
       "0.489294311136678"
      ],
      "text/markdown": [
       "0.489294311136678"
      ],
      "text/plain": [
       "[1] 0.4892943"
      ]
     },
     "metadata": {},
     "output_type": "display_data"
    }
   ],
   "source": [
    "# Calculate proportion estimate\n",
    "sample_proportion = 0\n",
    "\n",
    "for (gender in c('Cis-Female', 'Cis-Male','Transgender', 'Other')) {\n",
    "    Nh = N_strata %>%\n",
    "filter(Gender == gender)\n",
    "    p_row = strat_proportion_estimate %>%\n",
    " filter(Gender==gender)\n",
    "    p = p_row[[2]]\n",
    "    Nh = Nh[[2]]\n",
    "    sample_proportion = sample_proportion + (Nh/N)*p\n",
    "}\n",
    "\n",
    "sample_proportion"
   ]
  },
  {
   "cell_type": "markdown",
   "id": "ad46132c-1944-4aa8-9a81-544af9b9d21f",
   "metadata": {},
   "source": [
    "With our stratified sample we get a sample proportion estimate of 0.449. This is lower than our SRS estimate of 0.497. When calculating the standard error, we will need to use the population correction factor since the number of Transgender people in our sample is the same as the number of Transgender people in the population."
   ]
  },
  {
   "cell_type": "code",
   "execution_count": 37,
   "id": "28431fd5-c26f-4403-91ea-3a022d9da08c",
   "metadata": {
    "vscode": {
     "languageId": "r"
    }
   },
   "outputs": [
    {
     "data": {
      "text/html": [
       "0.0389421221887388"
      ],
      "text/latex": [
       "0.0389421221887388"
      ],
      "text/markdown": [
       "0.0389421221887388"
      ],
      "text/plain": [
       "[1] 0.03894212"
      ]
     },
     "metadata": {},
     "output_type": "display_data"
    }
   ],
   "source": [
    "### Sample proportion standard error\n",
    "\n",
    "sum_for_se = 0\n",
    "\n",
    "for (gender in c('Cis-Female', 'Cis-Male','Transgender', 'Other')) {\n",
    "    Nh = N_strata %>%\n",
    "filter(Gender == gender)\n",
    "    p_gen = strat_proportion_estimate %>%\n",
    " filter(Gender==gender)\n",
    "    p = p_gen[[2]] \n",
    "    nh = p_gen[[3]]\n",
    "    var = p_gen[[4]]\n",
    "    Nh = Nh[[2]] \n",
    "    sum_for_se = sum_for_se + (1-nh/Nh)*(Nh/N)**2*(var/nh)\n",
    "}\n",
    "\n",
    "SE = sqrt(sum_for_se)\n",
    "SE"
   ]
  },
  {
   "cell_type": "markdown",
   "id": "aea85e20-52c0-4a9a-b60b-af31715d6b14",
   "metadata": {},
   "source": [
    "Our standard error when we use the stratified sample estimate is slightly larger than the standard error for the SRS estimate (0.026). In this case, our stratefied sample gives a less precise estimate than our simple random sample estimate."
   ]
  },
  {
   "cell_type": "markdown",
   "id": "ea6f4c29-8d1b-4e9e-be70-2395ee7ec159",
   "metadata": {},
   "source": [
    "Now that we have an estimate and standard error, we can calculate a confidence interval."
   ]
  },
  {
   "cell_type": "code",
   "execution_count": 38,
   "id": "7b3ef984-9e22-490c-91b8-f8fc5f65f7b0",
   "metadata": {
    "vscode": {
     "languageId": "r"
    }
   },
   "outputs": [
    {
     "data": {
      "text/html": [
       "0.565620870626606"
      ],
      "text/latex": [
       "0.565620870626606"
      ],
      "text/markdown": [
       "0.565620870626606"
      ],
      "text/plain": [
       "[1] 0.5656209"
      ]
     },
     "metadata": {},
     "output_type": "display_data"
    },
    {
     "data": {
      "text/html": [
       "0.41296775164675"
      ],
      "text/latex": [
       "0.41296775164675"
      ],
      "text/markdown": [
       "0.41296775164675"
      ],
      "text/plain": [
       "[1] 0.4129678"
      ]
     },
     "metadata": {},
     "output_type": "display_data"
    }
   ],
   "source": [
    "upper_bound = sample_proportion + 1.96*SE\n",
    "lower_bound = sample_proportion - 1.96*SE\n",
    "upper_bound\n",
    "lower_bound"
   ]
  },
  {
   "cell_type": "markdown",
   "id": "b03ac5a9-b9f0-4f27-a521-bb85ab694503",
   "metadata": {},
   "source": [
    "We have a confidence interval of (0.365,0.534) for our stratified sample proportion estimate. We can interpret this as: if we take many stratified samples of size n from the same celebrity population and construct a confidence interval for proportion based on each sample using the same formula, about 95% of all these confidence intervals will include the true value p. Our confidence interval for proportion using the stratified sample does include the value 0.5. For our stratified sample, we do not have evidence that celebrity median life expectancy is different than the 72.6 world life expectancy estimate."
   ]
  },
  {
   "cell_type": "markdown",
   "id": "1b3de49a-9c00-4463-812e-77fd296f0318",
   "metadata": {},
   "source": [
    "For calculating the standard error and confidence interval, we are working under the assumption that each member of the population has been correctly classified into their Gender stratum. This is not necessarily true as there were many missing values, and values with two Genders which were grouped as \"Other\"."
   ]
  },
  {
   "cell_type": "markdown",
   "id": "22444585-7912-451b-a6ed-cabcf7487c53",
   "metadata": {},
   "source": [
    "It was interesting to see the different in proportion estimates between the strata. There are only 250 transgender data-points in our data-set of over a million values. So, a major benefit of using stratified sampling is that we got to ensure estimates of reasonable precision for those in the Transgender category. "
   ]
  },
  {
   "cell_type": "markdown",
   "id": "3d6d7c01-68b8-4cfb-8efb-b7258169929d",
   "metadata": {},
   "source": [
    "### Mean with our Simple Random Sample"
   ]
  },
  {
   "cell_type": "markdown",
   "id": "6ddc59a1-bc54-40d3-ad94-0da87a2a0739",
   "metadata": {},
   "source": [
    "Now, lets investigate the mean age of death in our simple random sample. We can start with visualizaion of the vanilla mean estimator."
   ]
  },
  {
   "cell_type": "code",
   "execution_count": 39,
   "id": "0b444fc3-7b93-471c-a5ff-d6a920b0098f",
   "metadata": {
    "vscode": {
     "languageId": "r"
    }
   },
   "outputs": [
    {
     "data": {
      "image/png": "[encoded data removed]",
      "text/plain": [
       "plot without title"
      ]
     },
     "metadata": {
      "image/png": {
       "height": 420,
       "width": 600
      }
     },
     "output_type": "display_data"
    }
   ],
   "source": [
    "plot_both <- ggplot(age_srs, aes(x = Age.of.death)) + \n",
    "    geom_histogram(binwidth = 2, alpha = 0.9, position = \"identity\", aes(y = ..density..), colour = \"#FFFFFF\", fill=\"#0072B2\") +\n",
    "    xlab(\"Age of Death\") + \n",
    "    geom_vline(aes(xintercept = mean(Age.of.death))) +\n",
    "    ggtitle(\"Distribution of Age of Death for Celebrities\") +\n",
    "    theme(axis.title = element_text(size = 15)) +\n",
    "    theme(plot.title = element_text(size = 15))\n",
    "plot_both"
   ]
  },
  {
   "cell_type": "markdown",
   "id": "9d07da91-bacb-4347-9c2c-d89eab75404c",
   "metadata": {},
   "source": [
    "It appears that the mean age of death in our simple random sample is around 70. Now, lets check the actual mean estimate, standard error, and confidence interval."
   ]
  },
  {
   "cell_type": "markdown",
   "id": "159c55c2-42be-4eba-a3cd-e25334dbd225",
   "metadata": {},
   "source": [
    "Lets determine whether we should use a vanilla, ratio, or regression estimation for determining the mean. To do this, we will check to see if Age of Death is strongly correlated to any of the other numeric variables in our sample."
   ]
  },
  {
   "cell_type": "code",
   "execution_count": 40,
   "id": "c5a52202-147e-4ee0-9d14-a2c702aa4c19",
   "metadata": {
    "vscode": {
     "languageId": "r"
    }
   },
   "outputs": [
    {
     "data": {
      "image/png": "[encoded data removed]",
      "text/plain": [
       "plot without title"
      ]
     },
     "metadata": {
      "image/png": {
       "height": 420,
       "width": 600
      }
     },
     "output_type": "display_data"
    }
   ],
   "source": [
    "ggpairs(age_srs %>% select(c('Birth.year','Death.year','Age.of.death')))"
   ]
  },
  {
   "cell_type": "markdown",
   "id": "1aef9dfb-d5d1-4fc6-b9e8-1057a318edbb",
   "metadata": {},
   "source": [
    "There is not a strong positive correlation between Age of death and either of the numeric variables in our sample, therefore, we will use a vanilla estimate of the mean."
   ]
  },
  {
   "cell_type": "markdown",
   "id": "5ee7bf8f-2aec-4d58-b7a0-b66716c615c5",
   "metadata": {},
   "source": [
    "We can use the following formulas to check the mean estimate, standard error, and confidence interval."
   ]
  },
  {
   "cell_type": "markdown",
   "id": "cf641429-00bc-45d7-ab78-816694979425",
   "metadata": {},
   "source": [
    "$$\\bar{y}_{s} = {\\frac{{\\sum{y_{i}}}}{n}}$$\n",
    "\n",
    "$$e_{i} = y_{i} - \\bar{y}_{s}$$\n",
    "\n",
    "$$s_{e} ^ 2 = {\\frac{1}{n-1}}*{\\sum\\limits_{i}{e_{i}^{2}}}$$\n",
    "\n",
    "$${\\text{CI} = \\bar{y}_{s}} \\pm 1.96 \\times {\\sqrt{(1-n/N)\\frac{s_{e} ^ 2}{n}}}$$\n",
    "\n",
    "\n",
    "<br>\n",
    "\n",
    "\n",
    "| Variable | Definition |\n",
    "| - | :- | \n",
    "| $\\bar{y}_{s}$ | the sample mean of Age of Death of celebrities\n",
    "| $n$ | the number of subjects in our sample\n",
    "| $y_{i}$ | the age of death of the ith celebrity in our sample\n",
    "| $N$ | the number of subjects in our population"
   ]
  },
  {
   "cell_type": "markdown",
   "id": "e3f69ffe-746c-444d-a6ae-55c42ae08cab",
   "metadata": {},
   "source": [
    "Below we will carry out these calculations."
   ]
  },
  {
   "cell_type": "code",
   "execution_count": 41,
   "id": "c7ff4550-4a16-428d-88f6-5a6ad8e90ed8",
   "metadata": {
    "vscode": {
     "languageId": "r"
    }
   },
   "outputs": [
    {
     "ename": "ERROR",
     "evalue": "Error in reframe(., mean = mean(Age.of.death), n = n(), sample_error_var = (1/(n - : could not find function \"reframe\"\n",
     "output_type": "error",
     "traceback": [
      "Error in reframe(., mean = mean(Age.of.death), n = n(), sample_error_var = (1/(n - : could not find function \"reframe\"\nTraceback:\n",
      "1. age_srs %>% reframe(mean = mean(Age.of.death), n = n(), sample_error_var = (1/(n - \n .     1)) * ei_sum, SE = sqrt((1 - n/pop_n) * sample_error_var/n), \n .     lower = mean - 1.96 * SE, upper = mean + 1.96 * SE)"
     ]
    }
   ],
   "source": [
    "ei_sum = sum((age_srs$Age.of.death - mean(age_srs$Age.of.death))^2)\n",
    "\n",
    "means_estimate <- age_srs %>%\n",
    "reframe(mean = mean(Age.of.death),\n",
    "          n = n(),\n",
    "          sample_error_var = (1/(n-1))*ei_sum,\n",
    "          SE = sqrt((1-n/pop_n)*sample_error_var/n),\n",
    "          lower = mean - 1.96 * SE,\n",
    "          upper = mean + 1.96 * SE)\n",
    "means_estimate"
   ]
  },
  {
   "cell_type": "markdown",
   "id": "bb40fa07-0602-4f8b-9e52-e9cc662fef8b",
   "metadata": {},
   "source": [
    "We end up with a sample mean age of death of 68.601."
   ]
  },
  {
   "cell_type": "markdown",
   "id": "2eafa26f-35b8-469f-ba6a-2d338ad29404",
   "metadata": {},
   "source": [
    "Our standard error for this estimate is 0.903."
   ]
  },
  {
   "cell_type": "markdown",
   "id": "344d69b8-7f08-4dde-b781-8ba6f1f74457",
   "metadata": {},
   "source": [
    "Our confidence interval for this estimate is (66.83,70.37). Overall, this estimate seems to be fairly precise. In addition the width of the confidence interval (3.54) is smaller than the one we were aiming for when we calculated our sample size (5). From this confidence interval, which does not include the age 72.6, it seems there is some evidence that the average age of death of celebrities is not 72.6."
   ]
  },
  {
   "cell_type": "markdown",
   "id": "b58658aa-f64e-4b69-81b9-7ec621090e8c",
   "metadata": {},
   "source": [
    "We calculate these values under the assumption that our sample is large enough for the central Limit Theorem to hold. Since our sample is much larger than 30 we can be confident that this assumption holds. We also assume that the observations in our sample are equally likely to be obtained and independent. Since we used a simple random sample we can also be confident that this assumption holds."
   ]
  },
  {
   "cell_type": "markdown",
   "id": "7e76a61f-2922-4daf-9f18-20dad425b056",
   "metadata": {},
   "source": [
    "### Mean with our Stratified Sample"
   ]
  },
  {
   "cell_type": "code",
   "execution_count": null,
   "id": "5a47a19c-ee2b-46f9-a753-29cb12491ffe",
   "metadata": {
    "vscode": {
     "languageId": "r"
    }
   },
   "outputs": [],
   "source": [
    "plot_mean_strat <- ggplot(age_strat, aes(x = Age.of.death, fill = Gender)) + \n",
    "    geom_density(stat = \"density\", colour = \"#FFFFFF\", alpha = 0.4) +\n",
    "    geom_vline(aes(xintercept = mean(age_strat$Age.of.death)), linewidth = 1.5) +\n",
    "    geom_vline(aes(xintercept = 72.6), linewidth = 1.5, colour = \"#FF0000\", alpha = 0.7) +\n",
    "    xlab(\"Age of Death\") + \n",
    "    ggtitle(\"Distribution of Age of Death for Celebrities\") +\n",
    "\n",
    "    scale_fill_manual(\n",
    "        values = c(\"#D55E0050\", \"#56B4E950\", \"#E69F0050\", \"#009E7350\"),\n",
    "        breaks = c(\"Cis-Female\", \"Cis-Male\", \"Other\", \"Transgender\")\n",
    "    ) +\n",
    "    theme(axis.title = element_text(size = 20)) +\n",
    "    theme(plot.title = element_text(size = 24)) +\n",
    "    theme(\n",
    "        legend.title = element_text(size=20), #change legend title font size\n",
    "        legend.text = element_text(size=15))\n",
    "plot_mean_strat"
   ]
  },
  {
   "cell_type": "markdown",
   "id": "77f4eae0-4414-45f0-bcd4-b024f1fbcb5b",
   "metadata": {},
   "source": [
    "From this visualization, where we do not use a weighted average to calculate the mean, we can see that the mean age of death (black line) is lower than it was for our simple random sample (red line)."
   ]
  },
  {
   "cell_type": "markdown",
   "id": "68d1c5eb-7cc2-4056-b655-6d0373796d2b",
   "metadata": {},
   "source": [
    "\n",
    "$$\\bar y_{str} = {\\sum\\limits_{h}{\\frac{N_{h}}{N}} * \\bar y_{Sh}}$$\n",
    "\n",
    "$$SE\\bar y_{str} = {\\sqrt{\\sum\\limits_{h}(1-{\\frac{n_{h}}{N_{h}}})(\\frac{N_{h}}{N})^2(\\frac{S_{h}^2}{n_{h}})}}$$\n",
    "\n",
    "$$CI = \\bar y_{str} \\pm 1.96 \\times SE\\bar y_{str}$$\n",
    "\n",
    "<br>\n",
    "\n",
    "\n",
    "| Variable | Definition |\n",
    "| - | :- | \n",
    "| $\\bar y_{str}$ | sample mean estimate\n",
    "| $\\bar y_{Sh}$ | sample mean estimate in stratum h\n",
    "| $S_{h}^2$ | sample variance for the sampled units that belong to stratum h\n",
    "| $N$ | total population size\n",
    "| $N_{h}$ | number of units (in the population) that belong to stratum h\n",
    "| $n_{h}$ | number of units sampled that belong to stratum h\n",
    "| $S_{h}^2$ | sample variance for the sampled units that belong to stratum h\n",
    "| $SE\\bar y_{str}$ | standard error for our mean estimate\n",
    "| $CI$ | confidence interval for our proportion estimate\n"
   ]
  },
  {
   "cell_type": "code",
   "execution_count": null,
   "id": "519930ea-f697-4bbb-ac8c-a047fcace607",
   "metadata": {
    "vscode": {
     "languageId": "r"
    }
   },
   "outputs": [],
   "source": [
    "# Calculations\n",
    "\n",
    "## Strata mean estimates\n",
    "\n",
    "strat_mean_estimate <- age_strat %>%\n",
    "group_by(Gender) %>%\n",
    "summarize(mean = mean(Age.of.death),\n",
    "          var = var(Age.of.death),\n",
    "          n = n(),\n",
    "          SE = sqrt(var/n),\n",
    "          lower = mean - 1.96 * SE,\n",
    "          upper = mean + 1.96 * SE)\n",
    "\n",
    "strat_mean_estimate"
   ]
  },
  {
   "cell_type": "markdown",
   "id": "d29ddd39-8855-4ea2-a7af-c92969639eb2",
   "metadata": {},
   "source": [
    "Interestingly, the sample means vary by quite a lot within each strata. Those who are Transgender in our sample have a much lower mean age of death than those in the other gender sub-categories. Like in our proportion calculations, by doing a stratified sample, we are able to get a fairly precise estimate for the mean age of death of Transgender people in our population."
   ]
  },
  {
   "cell_type": "code",
   "execution_count": null,
   "id": "568cc7f9-4432-4cc5-8b3f-82346dffcdb2",
   "metadata": {
    "vscode": {
     "languageId": "r"
    }
   },
   "outputs": [],
   "source": [
    "## Sample mean estimate\n",
    "\n",
    "sample_mean = 0\n",
    "\n",
    "for (gender in c('Cis-Female', 'Cis-Male','Transgender','Other')) {\n",
    "    Nh = N_strata %>%\n",
    "filter(Gender == gender)\n",
    "    m_gen = strat_mean_estimate %>%\n",
    " filter(Gender==gender)\n",
    "    m = m_gen[[2]]\n",
    "    Nh = Nh[[2]]\n",
    "    sample_mean = sample_mean + (Nh/N)*m\n",
    "}\n",
    "sample_mean"
   ]
  },
  {
   "cell_type": "markdown",
   "id": "71422810-3941-499e-b35e-2b5fef8fc4f2",
   "metadata": {},
   "source": [
    "Our estimate of 68.2 is actually very close to the estimate achieved with our simple random sample (68.6). This is because our calculations take into account the percentage of each stratum in our population. This estimate may even be more accurate because we are including specific information regarding to the percentage of each gender in the population."
   ]
  },
  {
   "cell_type": "code",
   "execution_count": null,
   "id": "1901eb20-2eee-4e88-99cd-f293b5373031",
   "metadata": {
    "vscode": {
     "languageId": "r"
    }
   },
   "outputs": [],
   "source": [
    "### Sample mean standard error\n",
    "\n",
    "sum_for_se = 0\n",
    "\n",
    "for (gender in c('Cis-Female', 'Cis-Male','Transgender','Other')) {\n",
    "    Nh = N_strata %>%\n",
    "filter(Gender == gender)\n",
    "    m_gen = strat_mean_estimate %>%\n",
    " filter(Gender==gender)\n",
    "    m = m_gen[[2]]\n",
    "    nh = m_gen[[4]]\n",
    "    var = m_gen[[3]]\n",
    "    Nh = Nh[[2]]\n",
    "    sum_for_se = sum_for_se + (1-nh/Nh)*(Nh/N)^2*(var/nh)\n",
    "}\n",
    "\n",
    "SE = sqrt(sum_for_se)\n",
    "SE"
   ]
  },
  {
   "cell_type": "markdown",
   "id": "66d7b8db-36d6-40d5-ba39-e7d9b6cee8f6",
   "metadata": {},
   "source": [
    "Our standard error of about 1.44 is larger than the standard error we calculated for our simple random sample mean estimate (about 0.9). This indicates that our stratified sample estimate is less precise than our simple random sample estimate."
   ]
  },
  {
   "cell_type": "code",
   "execution_count": null,
   "id": "26beab36-41da-4d41-ac53-a0e3368bb0fe",
   "metadata": {
    "vscode": {
     "languageId": "r"
    }
   },
   "outputs": [],
   "source": [
    "upper_bound = sample_mean + 1.96*SE\n",
    "lower_bound = sample_mean - 1.96*SE\n",
    "lower_bound\n",
    "upper_bound"
   ]
  },
  {
   "cell_type": "markdown",
   "id": "9077cd33-b62d-4d7d-8500-f4988e87910b",
   "metadata": {},
   "source": [
    "Our confidence interval is around 5.6, which is close to the width of 5 that we aimed for when calculating our sample size. Also, again our confidence interval does not include the age 72.6, it seems there is no evidence here that celebrities die at an average age of 72.6."
   ]
  },
  {
   "cell_type": "markdown",
   "id": "6a274517-a4fc-4027-8c54-41a5f0d5010e",
   "metadata": {},
   "source": [
    "A benefit of using a stratified sample is that we were able to notice interesting patterns within each stratum, while making sure that the final mean estimate was representative of the population."
   ]
  },
  {
   "cell_type": "markdown",
   "id": "b9eb39cf-4530-42ed-b180-0f773cd72ff9",
   "metadata": {},
   "source": [
    "However, we have calculated these values under the assumption that each member of the population was properly sorted into the Gender sub-groups. This may not be the case as there were many missing values, and values with two Genders which got classified as \"Other.\""
   ]
  },
  {
   "cell_type": "markdown",
   "id": "994e922d",
   "metadata": {},
   "source": [
    "## Conclusion\n",
    "Overall, the population can be generalized to a larger population since we see that we have a very low standard error which is around 2.2%. We were also able to compare the proportion of deceased celebrities and we saw that we achieved a confidence interval of (69.45, 69.85) from our stratified sample estimate, which is a bit lower than the world average life expectancy of 72.6 years. We also saw that the stratified sample estimate(0.456) is more accurate than our simple random sample mean(0.492). However it can only be generalized with male and female as there was just enough data of other genders to be included in the sample size. \n",
    "\n",
    "Furthermore, we saw that the average age of death from our sampling was lower than the world average life expectancy of 72.6 years. This may be due to a few reasons such as: some of the celebrities from our samples could be from previous centuries where the life expectancy is not as high as now due to the fact that medical technology and personal hygiene were not as advanced as today. In addition, Transgender was very socially acceptable until the recent decade or so therefore the average life expectancy will be higher when compared to others where medical services are much more advanced and better. \n"
   ]
  }
 ],
 "metadata": {
  "kernelspec": {
   "display_name": "R",
   "language": "R",
   "name": "ir"
  },
  "language_info": {
   "codemirror_mode": "r",
   "file_extension": ".r",
   "mimetype": "text/x-r-source",
   "name": "R",
   "pygments_lexer": "r",
   "version": "4.0.5"
  }
 },
 "nbformat": 4,
 "nbformat_minor": 5
}
